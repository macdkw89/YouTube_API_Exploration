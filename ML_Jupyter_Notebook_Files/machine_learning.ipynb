{
 "cells": [
  {
   "cell_type": "code",
   "execution_count": 51,
   "metadata": {},
   "outputs": [],
   "source": [
    "import pandas as pd\n",
    "from sklearn.model_selection import train_test_split\n",
    "from sklearn.linear_model import LogisticRegression\n",
    "from sklearn.metrics import accuracy_score\n",
    "from sklearn.metrics import classification_report\n",
    "from sklearn.preprocessing import StandardScaler, LabelEncoder\n",
    "import matplotlib.pyplot as plt\n",
    "import seaborn as sns"
   ]
  },
  {
   "cell_type": "code",
   "execution_count": 52,
   "metadata": {},
   "outputs": [
    {
     "data": {
      "text/html": [
       "<div>\n",
       "<style scoped>\n",
       "    .dataframe tbody tr th:only-of-type {\n",
       "        vertical-align: middle;\n",
       "    }\n",
       "\n",
       "    .dataframe tbody tr th {\n",
       "        vertical-align: top;\n",
       "    }\n",
       "\n",
       "    .dataframe thead th {\n",
       "        text-align: right;\n",
       "    }\n",
       "</style>\n",
       "<table border=\"1\" class=\"dataframe\">\n",
       "  <thead>\n",
       "    <tr style=\"text-align: right;\">\n",
       "      <th></th>\n",
       "      <th>channel_id</th>\n",
       "      <th>custom_url</th>\n",
       "      <th>topic_category</th>\n",
       "      <th>channel_view_count</th>\n",
       "      <th>subscriber_count</th>\n",
       "      <th>channel_video_count</th>\n",
       "      <th>video_id</th>\n",
       "      <th>video_length</th>\n",
       "      <th>like_count</th>\n",
       "      <th>comment_count</th>\n",
       "      <th>view_count</th>\n",
       "      <th>day_of_week_published</th>\n",
       "      <th>date_published</th>\n",
       "      <th>time_published</th>\n",
       "    </tr>\n",
       "  </thead>\n",
       "  <tbody>\n",
       "    <tr>\n",
       "      <th>0</th>\n",
       "      <td>UCbCmjCuTUZos6Inko4u57UQ</td>\n",
       "      <td>@cocomelon</td>\n",
       "      <td>Music</td>\n",
       "      <td>142468175305</td>\n",
       "      <td>146000000</td>\n",
       "      <td>811</td>\n",
       "      <td>lmH5uqwaFq8</td>\n",
       "      <td>2:59</td>\n",
       "      <td>19653</td>\n",
       "      <td>0</td>\n",
       "      <td>3425275</td>\n",
       "      <td>Tuesday</td>\n",
       "      <td>2022-11-01</td>\n",
       "      <td>07:00:15</td>\n",
       "    </tr>\n",
       "    <tr>\n",
       "      <th>1</th>\n",
       "      <td>UCbCmjCuTUZos6Inko4u57UQ</td>\n",
       "      <td>@cocomelon</td>\n",
       "      <td>Music</td>\n",
       "      <td>142468175305</td>\n",
       "      <td>146000000</td>\n",
       "      <td>811</td>\n",
       "      <td>0SY0Yn0yF9o</td>\n",
       "      <td>29:52:00</td>\n",
       "      <td>15076</td>\n",
       "      <td>0</td>\n",
       "      <td>2882582</td>\n",
       "      <td>Saturday</td>\n",
       "      <td>2022-10-29</td>\n",
       "      <td>07:00:00</td>\n",
       "    </tr>\n",
       "    <tr>\n",
       "      <th>2</th>\n",
       "      <td>UCbCmjCuTUZos6Inko4u57UQ</td>\n",
       "      <td>@cocomelon</td>\n",
       "      <td>Music</td>\n",
       "      <td>142468175305</td>\n",
       "      <td>146000000</td>\n",
       "      <td>811</td>\n",
       "      <td>sNyF7BvVfxs</td>\n",
       "      <td>2:49</td>\n",
       "      <td>47763</td>\n",
       "      <td>0</td>\n",
       "      <td>8673081</td>\n",
       "      <td>Tuesday</td>\n",
       "      <td>2022-10-25</td>\n",
       "      <td>07:00:16</td>\n",
       "    </tr>\n",
       "    <tr>\n",
       "      <th>3</th>\n",
       "      <td>UCbCmjCuTUZos6Inko4u57UQ</td>\n",
       "      <td>@cocomelon</td>\n",
       "      <td>Music</td>\n",
       "      <td>142468175305</td>\n",
       "      <td>146000000</td>\n",
       "      <td>811</td>\n",
       "      <td>K4kqqCzF-BA</td>\n",
       "      <td>1:01:21</td>\n",
       "      <td>57936</td>\n",
       "      <td>0</td>\n",
       "      <td>11744611</td>\n",
       "      <td>Saturday</td>\n",
       "      <td>2022-10-22</td>\n",
       "      <td>07:00:12</td>\n",
       "    </tr>\n",
       "    <tr>\n",
       "      <th>4</th>\n",
       "      <td>UCbCmjCuTUZos6Inko4u57UQ</td>\n",
       "      <td>@cocomelon</td>\n",
       "      <td>Music</td>\n",
       "      <td>142468175305</td>\n",
       "      <td>146000000</td>\n",
       "      <td>811</td>\n",
       "      <td>gfZmvllWVwY</td>\n",
       "      <td>2:39</td>\n",
       "      <td>46041</td>\n",
       "      <td>0</td>\n",
       "      <td>8775011</td>\n",
       "      <td>Tuesday</td>\n",
       "      <td>2022-10-18</td>\n",
       "      <td>07:00:19</td>\n",
       "    </tr>\n",
       "  </tbody>\n",
       "</table>\n",
       "</div>"
      ],
      "text/plain": [
       "                 channel_id  custom_url topic_category  channel_view_count  \\\n",
       "0  UCbCmjCuTUZos6Inko4u57UQ  @cocomelon          Music        142468175305   \n",
       "1  UCbCmjCuTUZos6Inko4u57UQ  @cocomelon          Music        142468175305   \n",
       "2  UCbCmjCuTUZos6Inko4u57UQ  @cocomelon          Music        142468175305   \n",
       "3  UCbCmjCuTUZos6Inko4u57UQ  @cocomelon          Music        142468175305   \n",
       "4  UCbCmjCuTUZos6Inko4u57UQ  @cocomelon          Music        142468175305   \n",
       "\n",
       "   subscriber_count  channel_video_count     video_id video_length  \\\n",
       "0         146000000                  811  lmH5uqwaFq8         2:59   \n",
       "1         146000000                  811  0SY0Yn0yF9o     29:52:00   \n",
       "2         146000000                  811  sNyF7BvVfxs         2:49   \n",
       "3         146000000                  811  K4kqqCzF-BA      1:01:21   \n",
       "4         146000000                  811  gfZmvllWVwY         2:39   \n",
       "\n",
       "   like_count  comment_count  view_count day_of_week_published date_published  \\\n",
       "0       19653              0     3425275               Tuesday     2022-11-01   \n",
       "1       15076              0     2882582              Saturday     2022-10-29   \n",
       "2       47763              0     8673081               Tuesday     2022-10-25   \n",
       "3       57936              0    11744611              Saturday     2022-10-22   \n",
       "4       46041              0     8775011               Tuesday     2022-10-18   \n",
       "\n",
       "  time_published  \n",
       "0       07:00:15  \n",
       "1       07:00:00  \n",
       "2       07:00:16  \n",
       "3       07:00:12  \n",
       "4       07:00:19  "
      ]
     },
     "execution_count": 52,
     "metadata": {},
     "output_type": "execute_result"
    }
   ],
   "source": [
    "file=pd.read_csv(\"../Database/ready_for_sql/final_df.csv\")\n",
    "df=file.copy()\n",
    "df.head()"
   ]
  },
  {
   "cell_type": "code",
   "execution_count": 53,
   "metadata": {},
   "outputs": [],
   "source": [
    "#make new column that has binary classification. if view count is greather than 1,000,000 then add 1 if less than add 0\n",
    "def viral(row):\n",
    "    if row['view_count'] > 1000000:\n",
    "        return 1\n",
    "    else:\n",
    "        return 0"
   ]
  },
  {
   "cell_type": "code",
   "execution_count": 54,
   "metadata": {},
   "outputs": [
    {
     "data": {
      "text/html": [
       "<div>\n",
       "<style scoped>\n",
       "    .dataframe tbody tr th:only-of-type {\n",
       "        vertical-align: middle;\n",
       "    }\n",
       "\n",
       "    .dataframe tbody tr th {\n",
       "        vertical-align: top;\n",
       "    }\n",
       "\n",
       "    .dataframe thead th {\n",
       "        text-align: right;\n",
       "    }\n",
       "</style>\n",
       "<table border=\"1\" class=\"dataframe\">\n",
       "  <thead>\n",
       "    <tr style=\"text-align: right;\">\n",
       "      <th></th>\n",
       "      <th>channel_id</th>\n",
       "      <th>custom_url</th>\n",
       "      <th>topic_category</th>\n",
       "      <th>channel_view_count</th>\n",
       "      <th>subscriber_count</th>\n",
       "      <th>channel_video_count</th>\n",
       "      <th>video_id</th>\n",
       "      <th>video_length</th>\n",
       "      <th>like_count</th>\n",
       "      <th>comment_count</th>\n",
       "      <th>view_count</th>\n",
       "      <th>day_of_week_published</th>\n",
       "      <th>date_published</th>\n",
       "      <th>time_published</th>\n",
       "      <th>viral</th>\n",
       "    </tr>\n",
       "  </thead>\n",
       "  <tbody>\n",
       "    <tr>\n",
       "      <th>3073</th>\n",
       "      <td>UC6107grRI4m0o2-emgoDnAA</td>\n",
       "      <td>@smartereveryday</td>\n",
       "      <td>Technology</td>\n",
       "      <td>1074535210</td>\n",
       "      <td>10600000</td>\n",
       "      <td>359</td>\n",
       "      <td>o0fG_lnVhHw</td>\n",
       "      <td>54:16:00</td>\n",
       "      <td>247066</td>\n",
       "      <td>14903</td>\n",
       "      <td>11581509</td>\n",
       "      <td>Saturday</td>\n",
       "      <td>2020-02-29</td>\n",
       "      <td>19:25:15</td>\n",
       "      <td>1</td>\n",
       "    </tr>\n",
       "    <tr>\n",
       "      <th>6515</th>\n",
       "      <td>UCL-yKZ_kCuKBHyeRfePpvuw</td>\n",
       "      <td>@educationweek</td>\n",
       "      <td>Society</td>\n",
       "      <td>14216746</td>\n",
       "      <td>34900</td>\n",
       "      <td>1152</td>\n",
       "      <td>E68yPb0v1eQ</td>\n",
       "      <td>4:23</td>\n",
       "      <td>27</td>\n",
       "      <td>0</td>\n",
       "      <td>3979</td>\n",
       "      <td>Wednesday</td>\n",
       "      <td>2021-11-17</td>\n",
       "      <td>18:49:09</td>\n",
       "      <td>0</td>\n",
       "    </tr>\n",
       "    <tr>\n",
       "      <th>2149</th>\n",
       "      <td>UCBINFWq52ShSgUFEoynfSwg</td>\n",
       "      <td>@popsugarfitness</td>\n",
       "      <td>Physical_fitness</td>\n",
       "      <td>942939712</td>\n",
       "      <td>6020000</td>\n",
       "      <td>1563</td>\n",
       "      <td>5x2wen8ciRo</td>\n",
       "      <td>14:24</td>\n",
       "      <td>922</td>\n",
       "      <td>17</td>\n",
       "      <td>38764</td>\n",
       "      <td>Wednesday</td>\n",
       "      <td>2022-08-17</td>\n",
       "      <td>16:00:08</td>\n",
       "      <td>0</td>\n",
       "    </tr>\n",
       "    <tr>\n",
       "      <th>2272</th>\n",
       "      <td>UCGMOauU8dOd4mv2bT3Tx57w</td>\n",
       "      <td>@gurumannfitness</td>\n",
       "      <td>Physical_fitness</td>\n",
       "      <td>170350424</td>\n",
       "      <td>2350000</td>\n",
       "      <td>411</td>\n",
       "      <td>n-E8GcgZYec</td>\n",
       "      <td>10:50</td>\n",
       "      <td>2050</td>\n",
       "      <td>196</td>\n",
       "      <td>34009</td>\n",
       "      <td>Wednesday</td>\n",
       "      <td>2022-05-11</td>\n",
       "      <td>12:00:24</td>\n",
       "      <td>0</td>\n",
       "    </tr>\n",
       "    <tr>\n",
       "      <th>690</th>\n",
       "      <td>UC0VOyT2OCBKdQhF3BAbZ-1g</td>\n",
       "      <td>@arianagrandevevo</td>\n",
       "      <td>Music</td>\n",
       "      <td>19286274611</td>\n",
       "      <td>110400000</td>\n",
       "      <td>250</td>\n",
       "      <td>rFA11HZu-RU</td>\n",
       "      <td>2:05</td>\n",
       "      <td>234842</td>\n",
       "      <td>13509</td>\n",
       "      <td>7152965</td>\n",
       "      <td>Friday</td>\n",
       "      <td>2021-02-19</td>\n",
       "      <td>05:00:11</td>\n",
       "      <td>1</td>\n",
       "    </tr>\n",
       "  </tbody>\n",
       "</table>\n",
       "</div>"
      ],
      "text/plain": [
       "                    channel_id         custom_url    topic_category  \\\n",
       "3073  UC6107grRI4m0o2-emgoDnAA   @smartereveryday        Technology   \n",
       "6515  UCL-yKZ_kCuKBHyeRfePpvuw     @educationweek           Society   \n",
       "2149  UCBINFWq52ShSgUFEoynfSwg   @popsugarfitness  Physical_fitness   \n",
       "2272  UCGMOauU8dOd4mv2bT3Tx57w   @gurumannfitness  Physical_fitness   \n",
       "690   UC0VOyT2OCBKdQhF3BAbZ-1g  @arianagrandevevo             Music   \n",
       "\n",
       "      channel_view_count  subscriber_count  channel_video_count     video_id  \\\n",
       "3073          1074535210          10600000                  359  o0fG_lnVhHw   \n",
       "6515            14216746             34900                 1152  E68yPb0v1eQ   \n",
       "2149           942939712           6020000                 1563  5x2wen8ciRo   \n",
       "2272           170350424           2350000                  411  n-E8GcgZYec   \n",
       "690          19286274611         110400000                  250  rFA11HZu-RU   \n",
       "\n",
       "     video_length  like_count  comment_count  view_count  \\\n",
       "3073     54:16:00      247066          14903    11581509   \n",
       "6515         4:23          27              0        3979   \n",
       "2149        14:24         922             17       38764   \n",
       "2272        10:50        2050            196       34009   \n",
       "690          2:05      234842          13509     7152965   \n",
       "\n",
       "     day_of_week_published date_published time_published  viral  \n",
       "3073              Saturday     2020-02-29       19:25:15      1  \n",
       "6515             Wednesday     2021-11-17       18:49:09      0  \n",
       "2149             Wednesday     2022-08-17       16:00:08      0  \n",
       "2272             Wednesday     2022-05-11       12:00:24      0  \n",
       "690                 Friday     2021-02-19       05:00:11      1  "
      ]
     },
     "execution_count": 54,
     "metadata": {},
     "output_type": "execute_result"
    }
   ],
   "source": [
    "#add the viral column \n",
    "df['viral']=df.apply(lambda row: viral(row), axis=1)\n",
    "df.sample(5)"
   ]
  },
  {
   "cell_type": "code",
   "execution_count": 55,
   "metadata": {},
   "outputs": [
    {
     "data": {
      "text/html": [
       "<div>\n",
       "<style scoped>\n",
       "    .dataframe tbody tr th:only-of-type {\n",
       "        vertical-align: middle;\n",
       "    }\n",
       "\n",
       "    .dataframe tbody tr th {\n",
       "        vertical-align: top;\n",
       "    }\n",
       "\n",
       "    .dataframe thead th {\n",
       "        text-align: right;\n",
       "    }\n",
       "</style>\n",
       "<table border=\"1\" class=\"dataframe\">\n",
       "  <thead>\n",
       "    <tr style=\"text-align: right;\">\n",
       "      <th></th>\n",
       "      <th>topic_category</th>\n",
       "      <th>channel_view_count</th>\n",
       "      <th>subscriber_count</th>\n",
       "      <th>channel_video_count</th>\n",
       "      <th>like_count</th>\n",
       "      <th>comment_count</th>\n",
       "      <th>day_of_week_published</th>\n",
       "      <th>viral</th>\n",
       "    </tr>\n",
       "  </thead>\n",
       "  <tbody>\n",
       "    <tr>\n",
       "      <th>2700</th>\n",
       "      <td>Knowledge</td>\n",
       "      <td>984667385</td>\n",
       "      <td>4420000</td>\n",
       "      <td>1011</td>\n",
       "      <td>4661</td>\n",
       "      <td>258</td>\n",
       "      <td>Sunday</td>\n",
       "      <td>0</td>\n",
       "    </tr>\n",
       "    <tr>\n",
       "      <th>5825</th>\n",
       "      <td>Music</td>\n",
       "      <td>54572</td>\n",
       "      <td>728</td>\n",
       "      <td>134</td>\n",
       "      <td>2</td>\n",
       "      <td>0</td>\n",
       "      <td>Wednesday</td>\n",
       "      <td>0</td>\n",
       "    </tr>\n",
       "    <tr>\n",
       "      <th>3270</th>\n",
       "      <td>Entertainment</td>\n",
       "      <td>1020971516</td>\n",
       "      <td>4400000</td>\n",
       "      <td>1908</td>\n",
       "      <td>2738</td>\n",
       "      <td>113</td>\n",
       "      <td>Wednesday</td>\n",
       "      <td>0</td>\n",
       "    </tr>\n",
       "    <tr>\n",
       "      <th>5793</th>\n",
       "      <td>Music</td>\n",
       "      <td>442176</td>\n",
       "      <td>1060</td>\n",
       "      <td>34</td>\n",
       "      <td>44</td>\n",
       "      <td>7</td>\n",
       "      <td>Friday</td>\n",
       "      <td>0</td>\n",
       "    </tr>\n",
       "    <tr>\n",
       "      <th>3658</th>\n",
       "      <td>Society</td>\n",
       "      <td>9745936107</td>\n",
       "      <td>14400000</td>\n",
       "      <td>179447</td>\n",
       "      <td>236</td>\n",
       "      <td>2</td>\n",
       "      <td>Thursday</td>\n",
       "      <td>0</td>\n",
       "    </tr>\n",
       "  </tbody>\n",
       "</table>\n",
       "</div>"
      ],
      "text/plain": [
       "     topic_category  channel_view_count  subscriber_count  \\\n",
       "2700      Knowledge           984667385           4420000   \n",
       "5825          Music               54572               728   \n",
       "3270  Entertainment          1020971516           4400000   \n",
       "5793          Music              442176              1060   \n",
       "3658        Society          9745936107          14400000   \n",
       "\n",
       "      channel_video_count  like_count  comment_count day_of_week_published  \\\n",
       "2700                 1011        4661            258                Sunday   \n",
       "5825                  134           2              0             Wednesday   \n",
       "3270                 1908        2738            113             Wednesday   \n",
       "5793                   34          44              7                Friday   \n",
       "3658               179447         236              2              Thursday   \n",
       "\n",
       "      viral  \n",
       "2700      0  \n",
       "5825      0  \n",
       "3270      0  \n",
       "5793      0  \n",
       "3658      0  "
      ]
     },
     "execution_count": 55,
     "metadata": {},
     "output_type": "execute_result"
    }
   ],
   "source": [
    "#remove columns not needed for ml\n",
    "df=df.drop(['channel_id','custom_url','video_id','date_published','time_published','video_length','view_count'],axis=1)\n",
    "df.sample(5)"
   ]
  },
  {
   "cell_type": "markdown",
   "metadata": {},
   "source": [
    "Preprocess Data- scale, encode, resample"
   ]
  },
  {
   "cell_type": "code",
   "execution_count": 6,
   "metadata": {},
   "outputs": [
    {
     "name": "stdout",
     "output_type": "stream",
     "text": [
      "shape of dataframe is:  (8603, 8)\n"
     ]
    },
    {
     "data": {
      "text/html": [
       "<div>\n",
       "<style scoped>\n",
       "    .dataframe tbody tr th:only-of-type {\n",
       "        vertical-align: middle;\n",
       "    }\n",
       "\n",
       "    .dataframe tbody tr th {\n",
       "        vertical-align: top;\n",
       "    }\n",
       "\n",
       "    .dataframe thead th {\n",
       "        text-align: right;\n",
       "    }\n",
       "</style>\n",
       "<table border=\"1\" class=\"dataframe\">\n",
       "  <thead>\n",
       "    <tr style=\"text-align: right;\">\n",
       "      <th></th>\n",
       "      <th>channel_view_count</th>\n",
       "      <th>subscriber_count</th>\n",
       "      <th>channel_video_count</th>\n",
       "      <th>like_count</th>\n",
       "      <th>comment_count</th>\n",
       "      <th>viral</th>\n",
       "    </tr>\n",
       "  </thead>\n",
       "  <tbody>\n",
       "    <tr>\n",
       "      <th>count</th>\n",
       "      <td>8.603000e+03</td>\n",
       "      <td>8.603000e+03</td>\n",
       "      <td>8603.000000</td>\n",
       "      <td>8.603000e+03</td>\n",
       "      <td>8603.000000</td>\n",
       "      <td>8603.000000</td>\n",
       "    </tr>\n",
       "    <tr>\n",
       "      <th>mean</th>\n",
       "      <td>6.968476e+09</td>\n",
       "      <td>1.619056e+07</td>\n",
       "      <td>6394.306405</td>\n",
       "      <td>8.607448e+04</td>\n",
       "      <td>3962.790306</td>\n",
       "      <td>0.212252</td>\n",
       "    </tr>\n",
       "    <tr>\n",
       "      <th>std</th>\n",
       "      <td>1.738611e+10</td>\n",
       "      <td>2.970128e+07</td>\n",
       "      <td>27296.898994</td>\n",
       "      <td>4.460045e+05</td>\n",
       "      <td>21021.855427</td>\n",
       "      <td>0.408926</td>\n",
       "    </tr>\n",
       "    <tr>\n",
       "      <th>min</th>\n",
       "      <td>7.910000e+02</td>\n",
       "      <td>1.600000e+01</td>\n",
       "      <td>2.000000</td>\n",
       "      <td>0.000000e+00</td>\n",
       "      <td>0.000000</td>\n",
       "      <td>0.000000</td>\n",
       "    </tr>\n",
       "    <tr>\n",
       "      <th>25%</th>\n",
       "      <td>1.273273e+06</td>\n",
       "      <td>7.230000e+03</td>\n",
       "      <td>165.000000</td>\n",
       "      <td>2.900000e+01</td>\n",
       "      <td>3.000000</td>\n",
       "      <td>0.000000</td>\n",
       "    </tr>\n",
       "    <tr>\n",
       "      <th>50%</th>\n",
       "      <td>5.132332e+08</td>\n",
       "      <td>2.640000e+06</td>\n",
       "      <td>427.000000</td>\n",
       "      <td>1.363000e+03</td>\n",
       "      <td>62.000000</td>\n",
       "      <td>0.000000</td>\n",
       "    </tr>\n",
       "    <tr>\n",
       "      <th>75%</th>\n",
       "      <td>4.315880e+09</td>\n",
       "      <td>1.450000e+07</td>\n",
       "      <td>1406.000000</td>\n",
       "      <td>2.006650e+04</td>\n",
       "      <td>835.000000</td>\n",
       "      <td>0.000000</td>\n",
       "    </tr>\n",
       "    <tr>\n",
       "      <th>max</th>\n",
       "      <td>1.424682e+11</td>\n",
       "      <td>1.460000e+08</td>\n",
       "      <td>246686.000000</td>\n",
       "      <td>1.451987e+07</td>\n",
       "      <td>728578.000000</td>\n",
       "      <td>1.000000</td>\n",
       "    </tr>\n",
       "  </tbody>\n",
       "</table>\n",
       "</div>"
      ],
      "text/plain": [
       "       channel_view_count  subscriber_count  channel_video_count  \\\n",
       "count        8.603000e+03      8.603000e+03          8603.000000   \n",
       "mean         6.968476e+09      1.619056e+07          6394.306405   \n",
       "std          1.738611e+10      2.970128e+07         27296.898994   \n",
       "min          7.910000e+02      1.600000e+01             2.000000   \n",
       "25%          1.273273e+06      7.230000e+03           165.000000   \n",
       "50%          5.132332e+08      2.640000e+06           427.000000   \n",
       "75%          4.315880e+09      1.450000e+07          1406.000000   \n",
       "max          1.424682e+11      1.460000e+08        246686.000000   \n",
       "\n",
       "         like_count  comment_count        viral  \n",
       "count  8.603000e+03    8603.000000  8603.000000  \n",
       "mean   8.607448e+04    3962.790306     0.212252  \n",
       "std    4.460045e+05   21021.855427     0.408926  \n",
       "min    0.000000e+00       0.000000     0.000000  \n",
       "25%    2.900000e+01       3.000000     0.000000  \n",
       "50%    1.363000e+03      62.000000     0.000000  \n",
       "75%    2.006650e+04     835.000000     0.000000  \n",
       "max    1.451987e+07  728578.000000     1.000000  "
      ]
     },
     "execution_count": 6,
     "metadata": {},
     "output_type": "execute_result"
    }
   ],
   "source": [
    "#shape of df\n",
    "print(\"shape of dataframe is: \", df.shape)\n",
    "\n",
    "#statistical details of data\n",
    "df.describe()"
   ]
  },
  {
   "cell_type": "code",
   "execution_count": 7,
   "metadata": {},
   "outputs": [
    {
     "data": {
      "text/plain": [
       "topic_category           0\n",
       "channel_view_count       0\n",
       "subscriber_count         0\n",
       "channel_video_count      0\n",
       "like_count               0\n",
       "comment_count            0\n",
       "day_of_week_published    0\n",
       "viral                    0\n",
       "dtype: int64"
      ]
     },
     "execution_count": 7,
     "metadata": {},
     "output_type": "execute_result"
    }
   ],
   "source": [
    "#null\n",
    "df.isnull().sum()"
   ]
  },
  {
   "cell_type": "code",
   "execution_count": 8,
   "metadata": {},
   "outputs": [
    {
     "data": {
      "image/png": "[encoded data removed]",
      "text/plain": [
       "<Figure size 720x216 with 2 Axes>"
      ]
     },
     "metadata": {
      "needs_background": "light"
     },
     "output_type": "display_data"
    }
   ],
   "source": [
    "#chart target variables distribution- color #8C000F\n",
    "fig=plt.figure(figsize=(10,3))\n",
    "fig.add_subplot(1,2,1)\n",
    "colors=['firebrick','gray']\n",
    "explode=(0,.1)\n",
    "a=df[\"viral\"].value_counts(normalize=True).plot\n",
    "a.pie(explode=explode,colors=colors)\n",
    "fig.add_subplot(1,2,2)\n",
    "chart=sns.countplot(x=df[\"viral\"],palette=colors)\n",
    "\n",
    "plt.tight_layout()\n",
    "plt.show()"
   ]
  },
  {
   "cell_type": "code",
   "execution_count": 9,
   "metadata": {},
   "outputs": [
    {
     "name": "stdout",
     "output_type": "stream",
     "text": [
      "Viral:  21.225154016040914 %\n",
      "Not Viral:  78.77484598395908 %\n"
     ]
    }
   ],
   "source": [
    "#percentage viral/not viral\n",
    "print(\"Viral: \", df.viral.value_counts()[1]/len(df)*100,\"%\")\n",
    "print(\"Not Viral: \", df.viral.value_counts()[0]/len(df)*100,\"%\")"
   ]
  },
  {
   "cell_type": "code",
   "execution_count": 10,
   "metadata": {},
   "outputs": [
    {
     "data": {
      "image/png": "[encoded data removed]",
      "text/plain": [
       "<Figure size 720x360 with 3 Axes>"
      ]
     },
     "metadata": {
      "needs_background": "light"
     },
     "output_type": "display_data"
    }
   ],
   "source": [
    "#visualize relationship between viral and other features\n",
    "fig=plt.figure(figsize=(10,5))\n",
    "fig.add_subplot(1,3,1)\n",
    "b=sns.boxplot(x=df['viral'],y=df['channel_video_count'],palette=colors)\n",
    "fig.add_subplot(1,3,2)\n",
    "b=sns.boxplot(x=df['viral'],y=df['channel_view_count'],palette=colors)\n",
    "fig.add_subplot(1,3,3)\n",
    "sns.boxplot(x=df['viral'],y=df['like_count'],palette=colors)\n",
    "plt.tight_layout()\n",
    "plt.show()\n"
   ]
  },
  {
   "cell_type": "code",
   "execution_count": 11,
   "metadata": {},
   "outputs": [
    {
     "data": {
      "image/png": "[encoded data removed]",
      "text/plain": [
       "<Figure size 432x288 with 2 Axes>"
      ]
     },
     "metadata": {
      "needs_background": "light"
     },
     "output_type": "display_data"
    }
   ],
   "source": [
    "#correlation between features\n",
    "corr_plot=sns.heatmap(df.corr(),annot=True, linewidths=3)\n",
    "plt.title(\"Correlation Plot\")\n",
    "plt.show()"
   ]
  },
  {
   "cell_type": "code",
   "execution_count": 12,
   "metadata": {},
   "outputs": [
    {
     "data": {
      "text/html": [
       "<div>\n",
       "<style scoped>\n",
       "    .dataframe tbody tr th:only-of-type {\n",
       "        vertical-align: middle;\n",
       "    }\n",
       "\n",
       "    .dataframe tbody tr th {\n",
       "        vertical-align: top;\n",
       "    }\n",
       "\n",
       "    .dataframe thead th {\n",
       "        text-align: right;\n",
       "    }\n",
       "</style>\n",
       "<table border=\"1\" class=\"dataframe\">\n",
       "  <thead>\n",
       "    <tr style=\"text-align: right;\">\n",
       "      <th></th>\n",
       "      <th>topic_category</th>\n",
       "      <th>channel_view_count</th>\n",
       "      <th>subscriber_count</th>\n",
       "      <th>channel_video_count</th>\n",
       "      <th>like_count</th>\n",
       "      <th>comment_count</th>\n",
       "      <th>day_of_week_published</th>\n",
       "      <th>viral</th>\n",
       "    </tr>\n",
       "  </thead>\n",
       "  <tbody>\n",
       "    <tr>\n",
       "      <th>0</th>\n",
       "      <td>Music</td>\n",
       "      <td>142468175305</td>\n",
       "      <td>146000000</td>\n",
       "      <td>811</td>\n",
       "      <td>19653</td>\n",
       "      <td>0</td>\n",
       "      <td>Tuesday</td>\n",
       "      <td>1</td>\n",
       "    </tr>\n",
       "    <tr>\n",
       "      <th>1</th>\n",
       "      <td>Music</td>\n",
       "      <td>142468175305</td>\n",
       "      <td>146000000</td>\n",
       "      <td>811</td>\n",
       "      <td>15076</td>\n",
       "      <td>0</td>\n",
       "      <td>Saturday</td>\n",
       "      <td>1</td>\n",
       "    </tr>\n",
       "    <tr>\n",
       "      <th>2</th>\n",
       "      <td>Music</td>\n",
       "      <td>142468175305</td>\n",
       "      <td>146000000</td>\n",
       "      <td>811</td>\n",
       "      <td>47763</td>\n",
       "      <td>0</td>\n",
       "      <td>Tuesday</td>\n",
       "      <td>1</td>\n",
       "    </tr>\n",
       "    <tr>\n",
       "      <th>3</th>\n",
       "      <td>Music</td>\n",
       "      <td>142468175305</td>\n",
       "      <td>146000000</td>\n",
       "      <td>811</td>\n",
       "      <td>57936</td>\n",
       "      <td>0</td>\n",
       "      <td>Saturday</td>\n",
       "      <td>1</td>\n",
       "    </tr>\n",
       "    <tr>\n",
       "      <th>4</th>\n",
       "      <td>Music</td>\n",
       "      <td>142468175305</td>\n",
       "      <td>146000000</td>\n",
       "      <td>811</td>\n",
       "      <td>46041</td>\n",
       "      <td>0</td>\n",
       "      <td>Tuesday</td>\n",
       "      <td>1</td>\n",
       "    </tr>\n",
       "  </tbody>\n",
       "</table>\n",
       "</div>"
      ],
      "text/plain": [
       "  topic_category  channel_view_count  subscriber_count  channel_video_count  \\\n",
       "0          Music        142468175305         146000000                  811   \n",
       "1          Music        142468175305         146000000                  811   \n",
       "2          Music        142468175305         146000000                  811   \n",
       "3          Music        142468175305         146000000                  811   \n",
       "4          Music        142468175305         146000000                  811   \n",
       "\n",
       "   like_count  comment_count day_of_week_published  viral  \n",
       "0       19653              0               Tuesday      1  \n",
       "1       15076              0              Saturday      1  \n",
       "2       47763              0               Tuesday      1  \n",
       "3       57936              0              Saturday      1  \n",
       "4       46041              0               Tuesday      1  "
      ]
     },
     "execution_count": 12,
     "metadata": {},
     "output_type": "execute_result"
    }
   ],
   "source": [
    "df.head()"
   ]
  },
  {
   "cell_type": "code",
   "execution_count": 56,
   "metadata": {},
   "outputs": [
    {
     "data": {
      "text/html": [
       "<div>\n",
       "<style scoped>\n",
       "    .dataframe tbody tr th:only-of-type {\n",
       "        vertical-align: middle;\n",
       "    }\n",
       "\n",
       "    .dataframe tbody tr th {\n",
       "        vertical-align: top;\n",
       "    }\n",
       "\n",
       "    .dataframe thead th {\n",
       "        text-align: right;\n",
       "    }\n",
       "</style>\n",
       "<table border=\"1\" class=\"dataframe\">\n",
       "  <thead>\n",
       "    <tr style=\"text-align: right;\">\n",
       "      <th></th>\n",
       "      <th>topic_category</th>\n",
       "      <th>channel_view_count</th>\n",
       "      <th>subscriber_count</th>\n",
       "      <th>channel_video_count</th>\n",
       "      <th>like_count</th>\n",
       "      <th>comment_count</th>\n",
       "      <th>day_of_week_published</th>\n",
       "      <th>viral</th>\n",
       "      <th>day</th>\n",
       "    </tr>\n",
       "  </thead>\n",
       "  <tbody>\n",
       "    <tr>\n",
       "      <th>7493</th>\n",
       "      <td>10</td>\n",
       "      <td>1273273</td>\n",
       "      <td>5310</td>\n",
       "      <td>617</td>\n",
       "      <td>17</td>\n",
       "      <td>1</td>\n",
       "      <td>Thursday</td>\n",
       "      <td>0</td>\n",
       "      <td>4</td>\n",
       "    </tr>\n",
       "    <tr>\n",
       "      <th>4959</th>\n",
       "      <td>11</td>\n",
       "      <td>151941207</td>\n",
       "      <td>1020000</td>\n",
       "      <td>1266</td>\n",
       "      <td>192</td>\n",
       "      <td>24</td>\n",
       "      <td>Wednesday</td>\n",
       "      <td>0</td>\n",
       "      <td>6</td>\n",
       "    </tr>\n",
       "    <tr>\n",
       "      <th>3573</th>\n",
       "      <td>6</td>\n",
       "      <td>2997561451</td>\n",
       "      <td>10900000</td>\n",
       "      <td>1428</td>\n",
       "      <td>23319</td>\n",
       "      <td>2062</td>\n",
       "      <td>Tuesday</td>\n",
       "      <td>0</td>\n",
       "      <td>5</td>\n",
       "    </tr>\n",
       "    <tr>\n",
       "      <th>3035</th>\n",
       "      <td>12</td>\n",
       "      <td>1074535210</td>\n",
       "      <td>10600000</td>\n",
       "      <td>359</td>\n",
       "      <td>30991</td>\n",
       "      <td>960</td>\n",
       "      <td>Friday</td>\n",
       "      <td>0</td>\n",
       "      <td>0</td>\n",
       "    </tr>\n",
       "    <tr>\n",
       "      <th>8570</th>\n",
       "      <td>3</td>\n",
       "      <td>184778</td>\n",
       "      <td>829</td>\n",
       "      <td>109</td>\n",
       "      <td>10</td>\n",
       "      <td>5</td>\n",
       "      <td>Sunday</td>\n",
       "      <td>0</td>\n",
       "      <td>3</td>\n",
       "    </tr>\n",
       "  </tbody>\n",
       "</table>\n",
       "</div>"
      ],
      "text/plain": [
       "      topic_category  channel_view_count  subscriber_count  \\\n",
       "7493              10             1273273              5310   \n",
       "4959              11           151941207           1020000   \n",
       "3573               6          2997561451          10900000   \n",
       "3035              12          1074535210          10600000   \n",
       "8570               3              184778               829   \n",
       "\n",
       "      channel_video_count  like_count  comment_count day_of_week_published  \\\n",
       "7493                  617          17              1              Thursday   \n",
       "4959                 1266         192             24             Wednesday   \n",
       "3573                 1428       23319           2062               Tuesday   \n",
       "3035                  359       30991            960                Friday   \n",
       "8570                  109          10              5                Sunday   \n",
       "\n",
       "      viral  day  \n",
       "7493      0    4  \n",
       "4959      0    6  \n",
       "3573      0    5  \n",
       "3035      0    0  \n",
       "8570      0    3  "
      ]
     },
     "execution_count": 56,
     "metadata": {},
     "output_type": "execute_result"
    }
   ],
   "source": [
    "#encode categorical data\n",
    "le = LabelEncoder()\n",
    "df2 = df.copy()\n",
    "df2['topic_category'] = le.fit_transform(df2['topic_category'])\n",
    "df2['day'] = le.fit_transform(df2['day_of_week_published'])\n",
    "df2.sample(5)\n"
   ]
  },
  {
   "cell_type": "code",
   "execution_count": 57,
   "metadata": {},
   "outputs": [],
   "source": [
    "# Day of Week dictionary\n",
    "weekday_num = {\n",
    "    \"Sunday\": 1,\n",
    "    \"Monday\": 2,\n",
    "    \"Tuesday\": 3,\n",
    "    \"Wednesday\": 4,\n",
    "    \"Thursday\": 5,\n",
    "    \"Friday\": 6,\n",
    "    \"Saturday\": 7\n",
    "}"
   ]
  },
  {
   "cell_type": "code",
   "execution_count": 58,
   "metadata": {},
   "outputs": [
    {
     "data": {
      "text/html": [
       "<div>\n",
       "<style scoped>\n",
       "    .dataframe tbody tr th:only-of-type {\n",
       "        vertical-align: middle;\n",
       "    }\n",
       "\n",
       "    .dataframe tbody tr th {\n",
       "        vertical-align: top;\n",
       "    }\n",
       "\n",
       "    .dataframe thead th {\n",
       "        text-align: right;\n",
       "    }\n",
       "</style>\n",
       "<table border=\"1\" class=\"dataframe\">\n",
       "  <thead>\n",
       "    <tr style=\"text-align: right;\">\n",
       "      <th></th>\n",
       "      <th>topic_category</th>\n",
       "      <th>channel_view_count</th>\n",
       "      <th>subscriber_count</th>\n",
       "      <th>channel_video_count</th>\n",
       "      <th>like_count</th>\n",
       "      <th>comment_count</th>\n",
       "      <th>viral</th>\n",
       "      <th>day_of_week</th>\n",
       "    </tr>\n",
       "  </thead>\n",
       "  <tbody>\n",
       "    <tr>\n",
       "      <th>0</th>\n",
       "      <td>7</td>\n",
       "      <td>142468175305</td>\n",
       "      <td>146000000</td>\n",
       "      <td>811</td>\n",
       "      <td>19653</td>\n",
       "      <td>0</td>\n",
       "      <td>1</td>\n",
       "      <td>3</td>\n",
       "    </tr>\n",
       "    <tr>\n",
       "      <th>1</th>\n",
       "      <td>7</td>\n",
       "      <td>142468175305</td>\n",
       "      <td>146000000</td>\n",
       "      <td>811</td>\n",
       "      <td>15076</td>\n",
       "      <td>0</td>\n",
       "      <td>1</td>\n",
       "      <td>7</td>\n",
       "    </tr>\n",
       "    <tr>\n",
       "      <th>2</th>\n",
       "      <td>7</td>\n",
       "      <td>142468175305</td>\n",
       "      <td>146000000</td>\n",
       "      <td>811</td>\n",
       "      <td>47763</td>\n",
       "      <td>0</td>\n",
       "      <td>1</td>\n",
       "      <td>3</td>\n",
       "    </tr>\n",
       "    <tr>\n",
       "      <th>3</th>\n",
       "      <td>7</td>\n",
       "      <td>142468175305</td>\n",
       "      <td>146000000</td>\n",
       "      <td>811</td>\n",
       "      <td>57936</td>\n",
       "      <td>0</td>\n",
       "      <td>1</td>\n",
       "      <td>7</td>\n",
       "    </tr>\n",
       "    <tr>\n",
       "      <th>4</th>\n",
       "      <td>7</td>\n",
       "      <td>142468175305</td>\n",
       "      <td>146000000</td>\n",
       "      <td>811</td>\n",
       "      <td>46041</td>\n",
       "      <td>0</td>\n",
       "      <td>1</td>\n",
       "      <td>3</td>\n",
       "    </tr>\n",
       "  </tbody>\n",
       "</table>\n",
       "</div>"
      ],
      "text/plain": [
       "   topic_category  channel_view_count  subscriber_count  channel_video_count  \\\n",
       "0               7        142468175305         146000000                  811   \n",
       "1               7        142468175305         146000000                  811   \n",
       "2               7        142468175305         146000000                  811   \n",
       "3               7        142468175305         146000000                  811   \n",
       "4               7        142468175305         146000000                  811   \n",
       "\n",
       "   like_count  comment_count  viral  day_of_week  \n",
       "0       19653              0      1            3  \n",
       "1       15076              0      1            7  \n",
       "2       47763              0      1            3  \n",
       "3       57936              0      1            7  \n",
       "4       46041              0      1            3  "
      ]
     },
     "execution_count": 58,
     "metadata": {},
     "output_type": "execute_result"
    }
   ],
   "source": [
    "# weekdays names encoded using the dictionary values\n",
    "df2[\"day_of_week\"] = df2[\"day_of_week_published\"].apply(lambda x: weekday_num[x])\n",
    "df2=df2.drop(columns=['day','day_of_week_published'])\n",
    "df2.head()"
   ]
  },
  {
   "cell_type": "code",
   "execution_count": 59,
   "metadata": {},
   "outputs": [
    {
     "data": {
      "image/png": "[encoded data removed]",
      "text/plain": [
       "<Figure size 432x288 with 2 Axes>"
      ]
     },
     "metadata": {
      "needs_background": "light"
     },
     "output_type": "display_data"
    }
   ],
   "source": [
    "#correlation between features\n",
    "corr_plot=sns.heatmap(df2.corr(),annot=True, linewidths=3)\n",
    "plt.title(\"Correlation Plot\")\n",
    "plt.show()"
   ]
  },
  {
   "cell_type": "markdown",
   "metadata": {},
   "source": [
    "Scaling"
   ]
  },
  {
   "cell_type": "code",
   "execution_count": 16,
   "metadata": {},
   "outputs": [],
   "source": [
    "#seperate features and target\n",
    "y=df2['viral']\n",
    "X=df2.drop(columns='viral')"
   ]
  },
  {
   "cell_type": "code",
   "execution_count": 17,
   "metadata": {},
   "outputs": [
    {
     "data": {
      "text/html": [
       "<div>\n",
       "<style scoped>\n",
       "    .dataframe tbody tr th:only-of-type {\n",
       "        vertical-align: middle;\n",
       "    }\n",
       "\n",
       "    .dataframe tbody tr th {\n",
       "        vertical-align: top;\n",
       "    }\n",
       "\n",
       "    .dataframe thead th {\n",
       "        text-align: right;\n",
       "    }\n",
       "</style>\n",
       "<table border=\"1\" class=\"dataframe\">\n",
       "  <thead>\n",
       "    <tr style=\"text-align: right;\">\n",
       "      <th></th>\n",
       "      <th>topic_category</th>\n",
       "      <th>channel_view_count</th>\n",
       "      <th>subscriber_count</th>\n",
       "      <th>channel_video_count</th>\n",
       "      <th>like_count</th>\n",
       "      <th>comment_count</th>\n",
       "      <th>day_of_week</th>\n",
       "    </tr>\n",
       "  </thead>\n",
       "  <tbody>\n",
       "    <tr>\n",
       "      <th>0</th>\n",
       "      <td>7</td>\n",
       "      <td>142468175305</td>\n",
       "      <td>146000000</td>\n",
       "      <td>811</td>\n",
       "      <td>19653</td>\n",
       "      <td>0</td>\n",
       "      <td>3</td>\n",
       "    </tr>\n",
       "    <tr>\n",
       "      <th>1</th>\n",
       "      <td>7</td>\n",
       "      <td>142468175305</td>\n",
       "      <td>146000000</td>\n",
       "      <td>811</td>\n",
       "      <td>15076</td>\n",
       "      <td>0</td>\n",
       "      <td>7</td>\n",
       "    </tr>\n",
       "    <tr>\n",
       "      <th>2</th>\n",
       "      <td>7</td>\n",
       "      <td>142468175305</td>\n",
       "      <td>146000000</td>\n",
       "      <td>811</td>\n",
       "      <td>47763</td>\n",
       "      <td>0</td>\n",
       "      <td>3</td>\n",
       "    </tr>\n",
       "    <tr>\n",
       "      <th>3</th>\n",
       "      <td>7</td>\n",
       "      <td>142468175305</td>\n",
       "      <td>146000000</td>\n",
       "      <td>811</td>\n",
       "      <td>57936</td>\n",
       "      <td>0</td>\n",
       "      <td>7</td>\n",
       "    </tr>\n",
       "    <tr>\n",
       "      <th>4</th>\n",
       "      <td>7</td>\n",
       "      <td>142468175305</td>\n",
       "      <td>146000000</td>\n",
       "      <td>811</td>\n",
       "      <td>46041</td>\n",
       "      <td>0</td>\n",
       "      <td>3</td>\n",
       "    </tr>\n",
       "  </tbody>\n",
       "</table>\n",
       "</div>"
      ],
      "text/plain": [
       "   topic_category  channel_view_count  subscriber_count  channel_video_count  \\\n",
       "0               7        142468175305         146000000                  811   \n",
       "1               7        142468175305         146000000                  811   \n",
       "2               7        142468175305         146000000                  811   \n",
       "3               7        142468175305         146000000                  811   \n",
       "4               7        142468175305         146000000                  811   \n",
       "\n",
       "   like_count  comment_count  day_of_week  \n",
       "0       19653              0            3  \n",
       "1       15076              0            7  \n",
       "2       47763              0            3  \n",
       "3       57936              0            7  \n",
       "4       46041              0            3  "
      ]
     },
     "execution_count": 17,
     "metadata": {},
     "output_type": "execute_result"
    }
   ],
   "source": [
    "X.head()"
   ]
  },
  {
   "cell_type": "code",
   "execution_count": 18,
   "metadata": {},
   "outputs": [
    {
     "data": {
      "text/html": [
       "<div>\n",
       "<style scoped>\n",
       "    .dataframe tbody tr th:only-of-type {\n",
       "        vertical-align: middle;\n",
       "    }\n",
       "\n",
       "    .dataframe tbody tr th {\n",
       "        vertical-align: top;\n",
       "    }\n",
       "\n",
       "    .dataframe thead th {\n",
       "        text-align: right;\n",
       "    }\n",
       "</style>\n",
       "<table border=\"1\" class=\"dataframe\">\n",
       "  <thead>\n",
       "    <tr style=\"text-align: right;\">\n",
       "      <th></th>\n",
       "      <th>topic_category</th>\n",
       "      <th>channel_view_count</th>\n",
       "      <th>subscriber_count</th>\n",
       "      <th>channel_video_count</th>\n",
       "      <th>like_count</th>\n",
       "      <th>comment_count</th>\n",
       "      <th>day_of_week</th>\n",
       "    </tr>\n",
       "  </thead>\n",
       "  <tbody>\n",
       "    <tr>\n",
       "      <th>0</th>\n",
       "      <td>0.21331</td>\n",
       "      <td>7.794011</td>\n",
       "      <td>4.370754</td>\n",
       "      <td>-0.204552</td>\n",
       "      <td>-0.148934</td>\n",
       "      <td>-0.188519</td>\n",
       "      <td>-0.613740</td>\n",
       "    </tr>\n",
       "    <tr>\n",
       "      <th>1</th>\n",
       "      <td>0.21331</td>\n",
       "      <td>7.794011</td>\n",
       "      <td>4.370754</td>\n",
       "      <td>-0.204552</td>\n",
       "      <td>-0.159197</td>\n",
       "      <td>-0.188519</td>\n",
       "      <td>1.578497</td>\n",
       "    </tr>\n",
       "    <tr>\n",
       "      <th>2</th>\n",
       "      <td>0.21331</td>\n",
       "      <td>7.794011</td>\n",
       "      <td>4.370754</td>\n",
       "      <td>-0.204552</td>\n",
       "      <td>-0.085904</td>\n",
       "      <td>-0.188519</td>\n",
       "      <td>-0.613740</td>\n",
       "    </tr>\n",
       "    <tr>\n",
       "      <th>3</th>\n",
       "      <td>0.21331</td>\n",
       "      <td>7.794011</td>\n",
       "      <td>4.370754</td>\n",
       "      <td>-0.204552</td>\n",
       "      <td>-0.063094</td>\n",
       "      <td>-0.188519</td>\n",
       "      <td>1.578497</td>\n",
       "    </tr>\n",
       "    <tr>\n",
       "      <th>4</th>\n",
       "      <td>0.21331</td>\n",
       "      <td>7.794011</td>\n",
       "      <td>4.370754</td>\n",
       "      <td>-0.204552</td>\n",
       "      <td>-0.089765</td>\n",
       "      <td>-0.188519</td>\n",
       "      <td>-0.613740</td>\n",
       "    </tr>\n",
       "  </tbody>\n",
       "</table>\n",
       "</div>"
      ],
      "text/plain": [
       "   topic_category  channel_view_count  subscriber_count  channel_video_count  \\\n",
       "0         0.21331            7.794011          4.370754            -0.204552   \n",
       "1         0.21331            7.794011          4.370754            -0.204552   \n",
       "2         0.21331            7.794011          4.370754            -0.204552   \n",
       "3         0.21331            7.794011          4.370754            -0.204552   \n",
       "4         0.21331            7.794011          4.370754            -0.204552   \n",
       "\n",
       "   like_count  comment_count  day_of_week  \n",
       "0   -0.148934      -0.188519    -0.613740  \n",
       "1   -0.159197      -0.188519     1.578497  \n",
       "2   -0.085904      -0.188519    -0.613740  \n",
       "3   -0.063094      -0.188519     1.578497  \n",
       "4   -0.089765      -0.188519    -0.613740  "
      ]
     },
     "execution_count": 18,
     "metadata": {},
     "output_type": "execute_result"
    }
   ],
   "source": [
    "stds=StandardScaler()\n",
    "df_scaled=stds.fit_transform(X.to_numpy())\n",
    "df_scaled=pd.DataFrame(df_scaled,columns=['topic_category','channel_view_count','subscriber_count','channel_video_count','like_count','comment_count','day_of_week'])\n",
    "\n",
    "df_scaled.head()"
   ]
  },
  {
   "cell_type": "markdown",
   "metadata": {},
   "source": [
    "Resample Data"
   ]
  },
  {
   "cell_type": "code",
   "execution_count": 19,
   "metadata": {},
   "outputs": [],
   "source": [
    "#seperate features and target\n",
    "y=df2['viral']\n",
    "X=df_scaled"
   ]
  },
  {
   "cell_type": "code",
   "execution_count": 20,
   "metadata": {},
   "outputs": [
    {
     "data": {
      "text/plain": [
       "(6452, 7)"
      ]
     },
     "execution_count": 20,
     "metadata": {},
     "output_type": "execute_result"
    }
   ],
   "source": [
    "#split data into training and testing \n",
    "X_train, X_test, y_train, y_test = train_test_split(X, \n",
    "                                                    y, \n",
    "                                                    random_state=1, \n",
    "                                                    stratify=y)\n",
    "X_train.shape"
   ]
  },
  {
   "cell_type": "code",
   "execution_count": 21,
   "metadata": {},
   "outputs": [
    {
     "data": {
      "text/plain": [
       "0    6777\n",
       "1    1826\n",
       "Name: viral, dtype: int64"
      ]
     },
     "execution_count": 21,
     "metadata": {},
     "output_type": "execute_result"
    }
   ],
   "source": [
    "y.value_counts()"
   ]
  },
  {
   "cell_type": "code",
   "execution_count": 22,
   "metadata": {},
   "outputs": [
    {
     "data": {
      "text/plain": [
       "Counter({0: 6451, 1: 6366})"
      ]
     },
     "execution_count": 22,
     "metadata": {},
     "output_type": "execute_result"
    }
   ],
   "source": [
    "from imblearn.combine import SMOTEENN\n",
    "from collections import Counter\n",
    "\n",
    "smote_enn = SMOTEENN(random_state=0)\n",
    "X_resampled, y_resampled = smote_enn.fit_resample(X, y)\n",
    "Counter(y_resampled)"
   ]
  },
  {
   "cell_type": "markdown",
   "metadata": {},
   "source": [
    "Logistic Regression"
   ]
  },
  {
   "cell_type": "code",
   "execution_count": 42,
   "metadata": {},
   "outputs": [
    {
     "name": "stdout",
     "output_type": "stream",
     "text": [
      "Accuracy Score:  0.9488609948860995\n"
     ]
    }
   ],
   "source": [
    "#BEFORE RESAMPLING\n",
    "#create logistic regression model\n",
    "classifier = LogisticRegression(solver='lbfgs',\n",
    "                                max_iter=200,\n",
    "                                random_state=1)\n",
    "\n",
    "#fit train the model\n",
    "classifier.fit(X_train, y_train)\n",
    "#make predictions\n",
    "y_pred = classifier.predict(X_test)\n",
    "#accuracy score\n",
    "print(\"Accuracy Score: \",accuracy_score(y_test, y_pred))\n"
   ]
  },
  {
   "cell_type": "code",
   "execution_count": 43,
   "metadata": {},
   "outputs": [
    {
     "data": {
      "text/plain": [
       "array([[1680,   14],\n",
       "       [  96,  361]])"
      ]
     },
     "execution_count": 43,
     "metadata": {},
     "output_type": "execute_result"
    }
   ],
   "source": [
    "# Display the confusion matrix\n",
    "from sklearn.metrics import confusion_matrix\n",
    "confusion_matrix(y_test,y_pred)"
   ]
  },
  {
   "cell_type": "code",
   "execution_count": 44,
   "metadata": {},
   "outputs": [
    {
     "name": "stdout",
     "output_type": "stream",
     "text": [
      "              precision    recall  f1-score   support\n",
      "\n",
      "           0       0.95      0.99      0.97      1694\n",
      "           1       0.96      0.79      0.87       457\n",
      "\n",
      "    accuracy                           0.95      2151\n",
      "   macro avg       0.95      0.89      0.92      2151\n",
      "weighted avg       0.95      0.95      0.95      2151\n",
      "\n"
     ]
    }
   ],
   "source": [
    "#classification report\n",
    "print(classification_report(y_test, y_pred))"
   ]
  },
  {
   "cell_type": "code",
   "execution_count": 23,
   "metadata": {},
   "outputs": [
    {
     "data": {
      "text/plain": [
       "LogisticRegression(max_iter=200, random_state=1)"
      ]
     },
     "execution_count": 23,
     "metadata": {},
     "output_type": "execute_result"
    }
   ],
   "source": [
    "#create logistic regression model\n",
    "classifier = LogisticRegression(solver='lbfgs',\n",
    "                                max_iter=200,\n",
    "                                random_state=1)\n",
    "\n",
    "#fit train the model\n",
    "classifier.fit(X_resampled, y_resampled)"
   ]
  },
  {
   "cell_type": "code",
   "execution_count": 24,
   "metadata": {},
   "outputs": [
    {
     "data": {
      "text/html": [
       "<div>\n",
       "<style scoped>\n",
       "    .dataframe tbody tr th:only-of-type {\n",
       "        vertical-align: middle;\n",
       "    }\n",
       "\n",
       "    .dataframe tbody tr th {\n",
       "        vertical-align: top;\n",
       "    }\n",
       "\n",
       "    .dataframe thead th {\n",
       "        text-align: right;\n",
       "    }\n",
       "</style>\n",
       "<table border=\"1\" class=\"dataframe\">\n",
       "  <thead>\n",
       "    <tr style=\"text-align: right;\">\n",
       "      <th></th>\n",
       "      <th>Prediction</th>\n",
       "      <th>Actual</th>\n",
       "    </tr>\n",
       "  </thead>\n",
       "  <tbody>\n",
       "    <tr>\n",
       "      <th>0</th>\n",
       "      <td>1</td>\n",
       "      <td>1</td>\n",
       "    </tr>\n",
       "    <tr>\n",
       "      <th>1</th>\n",
       "      <td>0</td>\n",
       "      <td>0</td>\n",
       "    </tr>\n",
       "    <tr>\n",
       "      <th>2</th>\n",
       "      <td>0</td>\n",
       "      <td>0</td>\n",
       "    </tr>\n",
       "    <tr>\n",
       "      <th>3</th>\n",
       "      <td>0</td>\n",
       "      <td>0</td>\n",
       "    </tr>\n",
       "    <tr>\n",
       "      <th>4</th>\n",
       "      <td>0</td>\n",
       "      <td>0</td>\n",
       "    </tr>\n",
       "    <tr>\n",
       "      <th>5</th>\n",
       "      <td>0</td>\n",
       "      <td>0</td>\n",
       "    </tr>\n",
       "    <tr>\n",
       "      <th>6</th>\n",
       "      <td>0</td>\n",
       "      <td>0</td>\n",
       "    </tr>\n",
       "    <tr>\n",
       "      <th>7</th>\n",
       "      <td>1</td>\n",
       "      <td>1</td>\n",
       "    </tr>\n",
       "    <tr>\n",
       "      <th>8</th>\n",
       "      <td>1</td>\n",
       "      <td>0</td>\n",
       "    </tr>\n",
       "    <tr>\n",
       "      <th>9</th>\n",
       "      <td>0</td>\n",
       "      <td>0</td>\n",
       "    </tr>\n",
       "    <tr>\n",
       "      <th>10</th>\n",
       "      <td>0</td>\n",
       "      <td>0</td>\n",
       "    </tr>\n",
       "    <tr>\n",
       "      <th>11</th>\n",
       "      <td>0</td>\n",
       "      <td>0</td>\n",
       "    </tr>\n",
       "    <tr>\n",
       "      <th>12</th>\n",
       "      <td>0</td>\n",
       "      <td>0</td>\n",
       "    </tr>\n",
       "    <tr>\n",
       "      <th>13</th>\n",
       "      <td>0</td>\n",
       "      <td>0</td>\n",
       "    </tr>\n",
       "    <tr>\n",
       "      <th>14</th>\n",
       "      <td>0</td>\n",
       "      <td>0</td>\n",
       "    </tr>\n",
       "    <tr>\n",
       "      <th>15</th>\n",
       "      <td>1</td>\n",
       "      <td>1</td>\n",
       "    </tr>\n",
       "    <tr>\n",
       "      <th>16</th>\n",
       "      <td>0</td>\n",
       "      <td>0</td>\n",
       "    </tr>\n",
       "    <tr>\n",
       "      <th>17</th>\n",
       "      <td>0</td>\n",
       "      <td>0</td>\n",
       "    </tr>\n",
       "    <tr>\n",
       "      <th>18</th>\n",
       "      <td>0</td>\n",
       "      <td>0</td>\n",
       "    </tr>\n",
       "    <tr>\n",
       "      <th>19</th>\n",
       "      <td>0</td>\n",
       "      <td>0</td>\n",
       "    </tr>\n",
       "  </tbody>\n",
       "</table>\n",
       "</div>"
      ],
      "text/plain": [
       "    Prediction  Actual\n",
       "0            1       1\n",
       "1            0       0\n",
       "2            0       0\n",
       "3            0       0\n",
       "4            0       0\n",
       "5            0       0\n",
       "6            0       0\n",
       "7            1       1\n",
       "8            1       0\n",
       "9            0       0\n",
       "10           0       0\n",
       "11           0       0\n",
       "12           0       0\n",
       "13           0       0\n",
       "14           0       0\n",
       "15           1       1\n",
       "16           0       0\n",
       "17           0       0\n",
       "18           0       0\n",
       "19           0       0"
      ]
     },
     "execution_count": 24,
     "metadata": {},
     "output_type": "execute_result"
    }
   ],
   "source": [
    "#make predictions\n",
    "y_pred = classifier.predict(X_test)\n",
    "results = pd.DataFrame({\"Prediction\": y_pred, \"Actual\": y_test}).reset_index(drop=True)\n",
    "results.head(20)"
   ]
  },
  {
   "cell_type": "code",
   "execution_count": 25,
   "metadata": {},
   "outputs": [
    {
     "name": "stdout",
     "output_type": "stream",
     "text": [
      "0.9539748953974896\n"
     ]
    }
   ],
   "source": [
    "#accuracy score\n",
    "print(accuracy_score(y_test, y_pred))"
   ]
  },
  {
   "cell_type": "code",
   "execution_count": 27,
   "metadata": {},
   "outputs": [
    {
     "data": {
      "text/plain": [
       "array([[1631,   63],\n",
       "       [  36,  421]])"
      ]
     },
     "execution_count": 27,
     "metadata": {},
     "output_type": "execute_result"
    }
   ],
   "source": [
    "# Display the confusion matrix\n",
    "from sklearn.metrics import confusion_matrix\n",
    "confusion_matrix(y_test,y_pred)"
   ]
  },
  {
   "cell_type": "code",
   "execution_count": 28,
   "metadata": {},
   "outputs": [
    {
     "name": "stdout",
     "output_type": "stream",
     "text": [
      "              precision    recall  f1-score   support\n",
      "\n",
      "           0       0.98      0.96      0.97      1694\n",
      "           1       0.87      0.92      0.89       457\n",
      "\n",
      "    accuracy                           0.95      2151\n",
      "   macro avg       0.92      0.94      0.93      2151\n",
      "weighted avg       0.96      0.95      0.95      2151\n",
      "\n"
     ]
    }
   ],
   "source": [
    "#classification report\n",
    "print(classification_report(y_test, y_pred))"
   ]
  },
  {
   "cell_type": "markdown",
   "metadata": {},
   "source": [
    "Random Forest Classifier\n"
   ]
  },
  {
   "cell_type": "code",
   "execution_count": 29,
   "metadata": {},
   "outputs": [],
   "source": [
    "from sklearn.metrics import balanced_accuracy_score\n",
    "from imblearn.metrics import classification_report_imbalanced"
   ]
  },
  {
   "cell_type": "code",
   "execution_count": 30,
   "metadata": {},
   "outputs": [],
   "source": [
    "#pip install \n",
    "#%pip install imbalanced-learn==0.9.0\n",
    "#%pip install scikit-learn==1.0"
   ]
  },
  {
   "cell_type": "code",
   "execution_count": 45,
   "metadata": {},
   "outputs": [
    {
     "name": "stdout",
     "output_type": "stream",
     "text": [
      "Accuracy Score:  0.9700468121494579\n"
     ]
    }
   ],
   "source": [
    "#BEFORE RESAMPLING\n",
    "# Create a random forest classifier\n",
    "from imblearn.ensemble import BalancedRandomForestClassifier\n",
    "\n",
    "model = BalancedRandomForestClassifier(n_estimators=100, random_state=1)\n",
    "\n",
    "# Fitting the model\n",
    "model.fit(X_train, y_train)\n",
    "\n",
    "# Calculated the balanced accuracy score\n",
    "y_pred=model.predict(X_test)\n",
    "print(\"Accuracy Score: \", balanced_accuracy_score(y_test,y_pred))"
   ]
  },
  {
   "cell_type": "code",
   "execution_count": 46,
   "metadata": {},
   "outputs": [
    {
     "name": "stdout",
     "output_type": "stream",
     "text": [
      "              precision    recall  f1-score   support\n",
      "\n",
      "           0       0.99      0.97      0.98      1694\n",
      "           1       0.89      0.97      0.93       457\n",
      "\n",
      "    accuracy                           0.97      2151\n",
      "   macro avg       0.94      0.97      0.95      2151\n",
      "weighted avg       0.97      0.97      0.97      2151\n",
      "\n"
     ]
    }
   ],
   "source": [
    "# Print the imbalanced classification report\n",
    "print(classification_report(y_test,y_pred))"
   ]
  },
  {
   "cell_type": "code",
   "execution_count": 47,
   "metadata": {},
   "outputs": [
    {
     "data": {
      "text/plain": [
       "[(0.4956314070603417, 'like_count'),\n",
       " (0.18758883148965227, 'comment_count'),\n",
       " (0.11188914380045174, 'subscriber_count'),\n",
       " (0.10249570056339609, 'channel_view_count'),\n",
       " (0.06270051475775136, 'channel_video_count'),\n",
       " (0.0234488363920342, 'topic_category'),\n",
       " (0.016245565936372698, 'day_of_week')]"
      ]
     },
     "execution_count": 47,
     "metadata": {},
     "output_type": "execute_result"
    }
   ],
   "source": [
    "# List the features sorted in descending order by feature importance\n",
    "sorted(zip(model.feature_importances_, X.columns), reverse=True)"
   ]
  },
  {
   "cell_type": "code",
   "execution_count": 33,
   "metadata": {},
   "outputs": [
    {
     "data": {
      "text/plain": [
       "BalancedRandomForestClassifier(random_state=1)"
      ]
     },
     "execution_count": 33,
     "metadata": {},
     "output_type": "execute_result"
    }
   ],
   "source": [
    "# Create a random forest classifier\n",
    "from imblearn.ensemble import BalancedRandomForestClassifier\n",
    "\n",
    "model = BalancedRandomForestClassifier(n_estimators=100, random_state=1)\n",
    "\n",
    "# Fitting the model\n",
    "model.fit(X_resampled, y_resampled)"
   ]
  },
  {
   "cell_type": "code",
   "execution_count": 34,
   "metadata": {},
   "outputs": [
    {
     "data": {
      "text/plain": [
       "0.9774257968011697"
      ]
     },
     "execution_count": 34,
     "metadata": {},
     "output_type": "execute_result"
    }
   ],
   "source": [
    "# Calculated the balanced accuracy score\n",
    "y_pred=model.predict(X_test)\n",
    "balanced_accuracy_score(y_test,y_pred)"
   ]
  },
  {
   "cell_type": "code",
   "execution_count": 35,
   "metadata": {},
   "outputs": [
    {
     "name": "stdout",
     "output_type": "stream",
     "text": [
      "              precision    recall  f1-score   support\n",
      "\n",
      "           0       0.99      0.98      0.99      1694\n",
      "           1       0.93      0.97      0.95       457\n",
      "\n",
      "    accuracy                           0.98      2151\n",
      "   macro avg       0.96      0.98      0.97      2151\n",
      "weighted avg       0.98      0.98      0.98      2151\n",
      "\n"
     ]
    }
   ],
   "source": [
    "# Print the imbalanced classification report\n",
    "print(classification_report(y_test,y_pred))"
   ]
  },
  {
   "cell_type": "code",
   "execution_count": 36,
   "metadata": {},
   "outputs": [
    {
     "data": {
      "text/plain": [
       "[(0.5087001150346812, 'like_count'),\n",
       " (0.19153776410912765, 'comment_count'),\n",
       " (0.11684245155319044, 'subscriber_count'),\n",
       " (0.0911579778379475, 'channel_view_count'),\n",
       " (0.06393489936816082, 'channel_video_count'),\n",
       " (0.020181369871470057, 'topic_category'),\n",
       " (0.007645422225422378, 'day_of_week')]"
      ]
     },
     "execution_count": 36,
     "metadata": {},
     "output_type": "execute_result"
    }
   ],
   "source": [
    "# List the features sorted in descending order by feature importance\n",
    "sorted(zip(model.feature_importances_, X.columns), reverse=True)"
   ]
  },
  {
   "cell_type": "code",
   "execution_count": 37,
   "metadata": {},
   "outputs": [
    {
     "data": {
      "text/plain": [
       "array([[1662,   32],\n",
       "       [  12,  445]])"
      ]
     },
     "execution_count": 37,
     "metadata": {},
     "output_type": "execute_result"
    }
   ],
   "source": [
    "# Display the confusion matrix\n",
    "confusion_matrix(y_test, y_pred)"
   ]
  },
  {
   "cell_type": "markdown",
   "metadata": {},
   "source": [
    "Easy Ensemble Classifier"
   ]
  },
  {
   "cell_type": "code",
   "execution_count": 48,
   "metadata": {},
   "outputs": [
    {
     "name": "stdout",
     "output_type": "stream",
     "text": [
      "Accuracy Score:  0.9558946623299119\n"
     ]
    }
   ],
   "source": [
    "#BEFORE RESAMPLING\n",
    "# Train the EasyEnsembleClassifier\n",
    "from imblearn.ensemble import EasyEnsembleClassifier\n",
    "\n",
    "model_eec=EasyEnsembleClassifier(n_estimators=100, random_state=1)\n",
    "model_eec.fit(X_train, y_train)\n",
    "\n",
    "# Calculated the balanced accuracy score\n",
    "y_pred=model_eec.predict(X_test)\n",
    "\n",
    "print(\"Accuracy Score: \", balanced_accuracy_score(y_test, y_pred))"
   ]
  },
  {
   "cell_type": "code",
   "execution_count": 49,
   "metadata": {},
   "outputs": [
    {
     "data": {
      "text/plain": [
       "array([[1615,   79],\n",
       "       [  19,  438]])"
      ]
     },
     "execution_count": 49,
     "metadata": {},
     "output_type": "execute_result"
    }
   ],
   "source": [
    "# Display the confusion matrix\n",
    "confusion_matrix(y_test, y_pred)"
   ]
  },
  {
   "cell_type": "code",
   "execution_count": 50,
   "metadata": {},
   "outputs": [
    {
     "name": "stdout",
     "output_type": "stream",
     "text": [
      "                   pre       rec       spe        f1       geo       iba       sup\n",
      "\n",
      "          0       0.99      0.95      0.96      0.97      0.96      0.91      1694\n",
      "          1       0.85      0.96      0.95      0.90      0.96      0.91       457\n",
      "\n",
      "avg / total       0.96      0.95      0.96      0.96      0.96      0.91      2151\n",
      "\n"
     ]
    }
   ],
   "source": [
    "# Print the imbalanced classification report\n",
    "print(classification_report_imbalanced(y_test, y_pred))"
   ]
  },
  {
   "cell_type": "code",
   "execution_count": 38,
   "metadata": {},
   "outputs": [
    {
     "data": {
      "text/plain": [
       "EasyEnsembleClassifier(n_estimators=100, random_state=1)"
      ]
     },
     "execution_count": 38,
     "metadata": {},
     "output_type": "execute_result"
    }
   ],
   "source": [
    "# Train the EasyEnsembleClassifier\n",
    "from imblearn.ensemble import EasyEnsembleClassifier\n",
    "\n",
    "model_eec=EasyEnsembleClassifier(n_estimators=100, random_state=1)\n",
    "model_eec.fit(X_resampled, y_resampled)"
   ]
  },
  {
   "cell_type": "code",
   "execution_count": 39,
   "metadata": {},
   "outputs": [
    {
     "data": {
      "text/plain": [
       "0.968535492754709"
      ]
     },
     "execution_count": 39,
     "metadata": {},
     "output_type": "execute_result"
    }
   ],
   "source": [
    "# Calculated the balanced accuracy score\n",
    "y_pred=model_eec.predict(X_test)\n",
    "\n",
    "balanced_accuracy_score(y_test, y_pred)"
   ]
  },
  {
   "cell_type": "code",
   "execution_count": 40,
   "metadata": {},
   "outputs": [
    {
     "data": {
      "text/plain": [
       "array([[1643,   51],\n",
       "       [  15,  442]])"
      ]
     },
     "execution_count": 40,
     "metadata": {},
     "output_type": "execute_result"
    }
   ],
   "source": [
    "# Display the confusion matrix\n",
    "confusion_matrix(y_test, y_pred)"
   ]
  },
  {
   "cell_type": "code",
   "execution_count": 41,
   "metadata": {},
   "outputs": [
    {
     "name": "stdout",
     "output_type": "stream",
     "text": [
      "                   pre       rec       spe        f1       geo       iba       sup\n",
      "\n",
      "          0       0.99      0.97      0.97      0.98      0.97      0.94      1694\n",
      "          1       0.90      0.97      0.97      0.93      0.97      0.94       457\n",
      "\n",
      "avg / total       0.97      0.97      0.97      0.97      0.97      0.94      2151\n",
      "\n"
     ]
    }
   ],
   "source": [
    "# Print the imbalanced classification report\n",
    "print(classification_report_imbalanced(y_test, y_pred))"
   ]
  },
  {
   "cell_type": "markdown",
   "metadata": {},
   "source": []
  }
 ],
 "metadata": {
  "kernelspec": {
   "display_name": "Python 3.7.13 ('mlenv')",
   "language": "python",
   "name": "python3"
  },
  "language_info": {
   "codemirror_mode": {
    "name": "ipython",
    "version": 3
   },
   "file_extension": ".py",
   "mimetype": "text/x-python",
   "name": "python",
   "nbconvert_exporter": "python",
   "pygments_lexer": "ipython3",
   "version": "3.7.13"
  },
  "orig_nbformat": 4,
  "vscode": {
   "interpreter": {
    "hash": "d4f1b2b26d282679a37c22ffd0d805ae9e6e49f4c74aa42e69980383f9b2a98b"
   }
  }
 },
 "nbformat": 4,
 "nbformat_minor": 2
}
