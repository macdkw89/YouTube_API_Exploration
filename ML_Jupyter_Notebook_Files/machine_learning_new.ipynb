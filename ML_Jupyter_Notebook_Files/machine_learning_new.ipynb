{
 "cells": [
  {
   "cell_type": "code",
   "execution_count": 1,
   "metadata": {},
   "outputs": [],
   "source": [
    "import pandas as pd\n",
    "from sklearn.model_selection import train_test_split\n",
    "from sklearn.linear_model import LogisticRegression\n",
    "from sklearn.metrics import accuracy_score\n",
    "from sklearn.metrics import classification_report\n",
    "from sklearn.preprocessing import StandardScaler, LabelEncoder\n",
    "import matplotlib.pyplot as plt\n",
    "import seaborn as sns"
   ]
  },
  {
   "cell_type": "code",
   "execution_count": 2,
   "metadata": {},
   "outputs": [
    {
     "data": {
      "text/html": [
       "<div>\n",
       "<style scoped>\n",
       "    .dataframe tbody tr th:only-of-type {\n",
       "        vertical-align: middle;\n",
       "    }\n",
       "\n",
       "    .dataframe tbody tr th {\n",
       "        vertical-align: top;\n",
       "    }\n",
       "\n",
       "    .dataframe thead th {\n",
       "        text-align: right;\n",
       "    }\n",
       "</style>\n",
       "<table border=\"1\" class=\"dataframe\">\n",
       "  <thead>\n",
       "    <tr style=\"text-align: right;\">\n",
       "      <th></th>\n",
       "      <th>channel_id</th>\n",
       "      <th>custom_url</th>\n",
       "      <th>topic_category</th>\n",
       "      <th>channel_view_count</th>\n",
       "      <th>subscriber_count</th>\n",
       "      <th>channel_video_count</th>\n",
       "      <th>video_id</th>\n",
       "      <th>like_count</th>\n",
       "      <th>comment_count</th>\n",
       "      <th>view_count</th>\n",
       "      <th>day_of_week_published</th>\n",
       "      <th>time_published</th>\n",
       "      <th>video_length_seconds</th>\n",
       "    </tr>\n",
       "  </thead>\n",
       "  <tbody>\n",
       "    <tr>\n",
       "      <th>0</th>\n",
       "      <td>UCbCmjCuTUZos6Inko4u57UQ</td>\n",
       "      <td>@cocomelon</td>\n",
       "      <td>Music</td>\n",
       "      <td>142468175305</td>\n",
       "      <td>146000000</td>\n",
       "      <td>811</td>\n",
       "      <td>lmH5uqwaFq8</td>\n",
       "      <td>19653</td>\n",
       "      <td>0</td>\n",
       "      <td>3425275</td>\n",
       "      <td>Tuesday</td>\n",
       "      <td>07:00:15</td>\n",
       "      <td>179.0</td>\n",
       "    </tr>\n",
       "    <tr>\n",
       "      <th>1</th>\n",
       "      <td>UCbCmjCuTUZos6Inko4u57UQ</td>\n",
       "      <td>@cocomelon</td>\n",
       "      <td>Music</td>\n",
       "      <td>142468175305</td>\n",
       "      <td>146000000</td>\n",
       "      <td>811</td>\n",
       "      <td>0SY0Yn0yF9o</td>\n",
       "      <td>15076</td>\n",
       "      <td>0</td>\n",
       "      <td>2882582</td>\n",
       "      <td>Saturday</td>\n",
       "      <td>07:00:00</td>\n",
       "      <td>1792.0</td>\n",
       "    </tr>\n",
       "    <tr>\n",
       "      <th>2</th>\n",
       "      <td>UCbCmjCuTUZos6Inko4u57UQ</td>\n",
       "      <td>@cocomelon</td>\n",
       "      <td>Music</td>\n",
       "      <td>142468175305</td>\n",
       "      <td>146000000</td>\n",
       "      <td>811</td>\n",
       "      <td>sNyF7BvVfxs</td>\n",
       "      <td>47763</td>\n",
       "      <td>0</td>\n",
       "      <td>8673081</td>\n",
       "      <td>Tuesday</td>\n",
       "      <td>07:00:16</td>\n",
       "      <td>169.0</td>\n",
       "    </tr>\n",
       "    <tr>\n",
       "      <th>3</th>\n",
       "      <td>UCbCmjCuTUZos6Inko4u57UQ</td>\n",
       "      <td>@cocomelon</td>\n",
       "      <td>Music</td>\n",
       "      <td>142468175305</td>\n",
       "      <td>146000000</td>\n",
       "      <td>811</td>\n",
       "      <td>K4kqqCzF-BA</td>\n",
       "      <td>57936</td>\n",
       "      <td>0</td>\n",
       "      <td>11744611</td>\n",
       "      <td>Saturday</td>\n",
       "      <td>07:00:12</td>\n",
       "      <td>3681.0</td>\n",
       "    </tr>\n",
       "    <tr>\n",
       "      <th>4</th>\n",
       "      <td>UCbCmjCuTUZos6Inko4u57UQ</td>\n",
       "      <td>@cocomelon</td>\n",
       "      <td>Music</td>\n",
       "      <td>142468175305</td>\n",
       "      <td>146000000</td>\n",
       "      <td>811</td>\n",
       "      <td>gfZmvllWVwY</td>\n",
       "      <td>46041</td>\n",
       "      <td>0</td>\n",
       "      <td>8775011</td>\n",
       "      <td>Tuesday</td>\n",
       "      <td>07:00:19</td>\n",
       "      <td>159.0</td>\n",
       "    </tr>\n",
       "  </tbody>\n",
       "</table>\n",
       "</div>"
      ],
      "text/plain": [
       "                 channel_id  custom_url topic_category  channel_view_count  \\\n",
       "0  UCbCmjCuTUZos6Inko4u57UQ  @cocomelon          Music        142468175305   \n",
       "1  UCbCmjCuTUZos6Inko4u57UQ  @cocomelon          Music        142468175305   \n",
       "2  UCbCmjCuTUZos6Inko4u57UQ  @cocomelon          Music        142468175305   \n",
       "3  UCbCmjCuTUZos6Inko4u57UQ  @cocomelon          Music        142468175305   \n",
       "4  UCbCmjCuTUZos6Inko4u57UQ  @cocomelon          Music        142468175305   \n",
       "\n",
       "   subscriber_count  channel_video_count     video_id  like_count  \\\n",
       "0         146000000                  811  lmH5uqwaFq8       19653   \n",
       "1         146000000                  811  0SY0Yn0yF9o       15076   \n",
       "2         146000000                  811  sNyF7BvVfxs       47763   \n",
       "3         146000000                  811  K4kqqCzF-BA       57936   \n",
       "4         146000000                  811  gfZmvllWVwY       46041   \n",
       "\n",
       "   comment_count  view_count day_of_week_published time_published  \\\n",
       "0              0     3425275               Tuesday       07:00:15   \n",
       "1              0     2882582              Saturday       07:00:00   \n",
       "2              0     8673081               Tuesday       07:00:16   \n",
       "3              0    11744611              Saturday       07:00:12   \n",
       "4              0     8775011               Tuesday       07:00:19   \n",
       "\n",
       "   video_length_seconds  \n",
       "0                 179.0  \n",
       "1                1792.0  \n",
       "2                 169.0  \n",
       "3                3681.0  \n",
       "4                 159.0  "
      ]
     },
     "execution_count": 2,
     "metadata": {},
     "output_type": "execute_result"
    }
   ],
   "source": [
    "file=pd.read_csv(\"../Database/ready_for_sql/ml_table.csv\")\n",
    "df=file.copy()\n",
    "df.head()"
   ]
  },
  {
   "cell_type": "code",
   "execution_count": 3,
   "metadata": {},
   "outputs": [],
   "source": [
    "#make new column that has binary classification. if view count is greather than 1,000,000 then add 1 if less than add 0\n",
    "def viral(row):\n",
    "    if row['view_count'] > 1000000:\n",
    "        return 1\n",
    "    else:\n",
    "        return 0"
   ]
  },
  {
   "cell_type": "code",
   "execution_count": 4,
   "metadata": {},
   "outputs": [
    {
     "data": {
      "text/html": [
       "<div>\n",
       "<style scoped>\n",
       "    .dataframe tbody tr th:only-of-type {\n",
       "        vertical-align: middle;\n",
       "    }\n",
       "\n",
       "    .dataframe tbody tr th {\n",
       "        vertical-align: top;\n",
       "    }\n",
       "\n",
       "    .dataframe thead th {\n",
       "        text-align: right;\n",
       "    }\n",
       "</style>\n",
       "<table border=\"1\" class=\"dataframe\">\n",
       "  <thead>\n",
       "    <tr style=\"text-align: right;\">\n",
       "      <th></th>\n",
       "      <th>channel_id</th>\n",
       "      <th>custom_url</th>\n",
       "      <th>topic_category</th>\n",
       "      <th>channel_view_count</th>\n",
       "      <th>subscriber_count</th>\n",
       "      <th>channel_video_count</th>\n",
       "      <th>video_id</th>\n",
       "      <th>like_count</th>\n",
       "      <th>comment_count</th>\n",
       "      <th>view_count</th>\n",
       "      <th>day_of_week_published</th>\n",
       "      <th>time_published</th>\n",
       "      <th>video_length_seconds</th>\n",
       "      <th>viral</th>\n",
       "    </tr>\n",
       "  </thead>\n",
       "  <tbody>\n",
       "    <tr>\n",
       "      <th>4729</th>\n",
       "      <td>UCEdvpU2pFRCVqU6yIPyTpMQ</td>\n",
       "      <td>@marshmellomusic</td>\n",
       "      <td>Music</td>\n",
       "      <td>13763100048</td>\n",
       "      <td>56000000</td>\n",
       "      <td>403</td>\n",
       "      <td>haIaTXa54mU</td>\n",
       "      <td>28351</td>\n",
       "      <td>1370</td>\n",
       "      <td>810131</td>\n",
       "      <td>Friday</td>\n",
       "      <td>04:00:25</td>\n",
       "      <td>171.0</td>\n",
       "      <td>0</td>\n",
       "    </tr>\n",
       "    <tr>\n",
       "      <th>4904</th>\n",
       "      <td>UC8-Th83bH_thdKZDJCrn88g</td>\n",
       "      <td>@fallontonight</td>\n",
       "      <td>Film</td>\n",
       "      <td>16489352119</td>\n",
       "      <td>30300000</td>\n",
       "      <td>8168</td>\n",
       "      <td>ZezYpHPIKY4</td>\n",
       "      <td>5131</td>\n",
       "      <td>201</td>\n",
       "      <td>182101</td>\n",
       "      <td>Wednesday</td>\n",
       "      <td>04:06:32</td>\n",
       "      <td>507.0</td>\n",
       "      <td>0</td>\n",
       "    </tr>\n",
       "    <tr>\n",
       "      <th>5230</th>\n",
       "      <td>UCi9cDo6239RAzPpBZO9y5SA</td>\n",
       "      <td>@lelepons</td>\n",
       "      <td>Television_program</td>\n",
       "      <td>4999570389</td>\n",
       "      <td>17700000</td>\n",
       "      <td>154</td>\n",
       "      <td>9g-JlF7S8aw</td>\n",
       "      <td>138996</td>\n",
       "      <td>4654</td>\n",
       "      <td>5693577</td>\n",
       "      <td>Friday</td>\n",
       "      <td>19:00:02</td>\n",
       "      <td>327.0</td>\n",
       "      <td>1</td>\n",
       "    </tr>\n",
       "    <tr>\n",
       "      <th>4103</th>\n",
       "      <td>UC0C-w0YjGpqDXGB8IHb662A</td>\n",
       "      <td>@edsheeran</td>\n",
       "      <td>Music</td>\n",
       "      <td>28469930227</td>\n",
       "      <td>52600000</td>\n",
       "      <td>258</td>\n",
       "      <td>wyE9x5HETkY</td>\n",
       "      <td>69955</td>\n",
       "      <td>2575</td>\n",
       "      <td>2869372</td>\n",
       "      <td>Monday</td>\n",
       "      <td>18:19:57</td>\n",
       "      <td>185.0</td>\n",
       "      <td>1</td>\n",
       "    </tr>\n",
       "    <tr>\n",
       "      <th>1088</th>\n",
       "      <td>UCDGmojLIoWpXok597xYo8cg</td>\n",
       "      <td>@billieeilishvevo</td>\n",
       "      <td>Music</td>\n",
       "      <td>9073913673</td>\n",
       "      <td>14500000</td>\n",
       "      <td>108</td>\n",
       "      <td>INX3MRXG9DM</td>\n",
       "      <td>152889</td>\n",
       "      <td>5021</td>\n",
       "      <td>4756764</td>\n",
       "      <td>Tuesday</td>\n",
       "      <td>06:00:03</td>\n",
       "      <td>261.0</td>\n",
       "      <td>1</td>\n",
       "    </tr>\n",
       "  </tbody>\n",
       "</table>\n",
       "</div>"
      ],
      "text/plain": [
       "                    channel_id         custom_url      topic_category  \\\n",
       "4729  UCEdvpU2pFRCVqU6yIPyTpMQ   @marshmellomusic               Music   \n",
       "4904  UC8-Th83bH_thdKZDJCrn88g     @fallontonight                Film   \n",
       "5230  UCi9cDo6239RAzPpBZO9y5SA          @lelepons  Television_program   \n",
       "4103  UC0C-w0YjGpqDXGB8IHb662A         @edsheeran               Music   \n",
       "1088  UCDGmojLIoWpXok597xYo8cg  @billieeilishvevo               Music   \n",
       "\n",
       "      channel_view_count  subscriber_count  channel_video_count     video_id  \\\n",
       "4729         13763100048          56000000                  403  haIaTXa54mU   \n",
       "4904         16489352119          30300000                 8168  ZezYpHPIKY4   \n",
       "5230          4999570389          17700000                  154  9g-JlF7S8aw   \n",
       "4103         28469930227          52600000                  258  wyE9x5HETkY   \n",
       "1088          9073913673          14500000                  108  INX3MRXG9DM   \n",
       "\n",
       "      like_count  comment_count  view_count day_of_week_published  \\\n",
       "4729       28351           1370      810131                Friday   \n",
       "4904        5131            201      182101             Wednesday   \n",
       "5230      138996           4654     5693577                Friday   \n",
       "4103       69955           2575     2869372                Monday   \n",
       "1088      152889           5021     4756764               Tuesday   \n",
       "\n",
       "     time_published  video_length_seconds  viral  \n",
       "4729       04:00:25                 171.0      0  \n",
       "4904       04:06:32                 507.0      0  \n",
       "5230       19:00:02                 327.0      1  \n",
       "4103       18:19:57                 185.0      1  \n",
       "1088       06:00:03                 261.0      1  "
      ]
     },
     "execution_count": 4,
     "metadata": {},
     "output_type": "execute_result"
    }
   ],
   "source": [
    "#add the viral column \n",
    "df['viral']=df.apply(lambda row: viral(row), axis=1)\n",
    "df.sample(5)"
   ]
  },
  {
   "cell_type": "code",
   "execution_count": 5,
   "metadata": {},
   "outputs": [
    {
     "data": {
      "text/plain": [
       "8408"
      ]
     },
     "execution_count": 5,
     "metadata": {},
     "output_type": "execute_result"
    }
   ],
   "source": [
    "df['video_id'].nunique()"
   ]
  },
  {
   "cell_type": "code",
   "execution_count": 6,
   "metadata": {},
   "outputs": [
    {
     "data": {
      "text/plain": [
       "(8993, 14)"
      ]
     },
     "execution_count": 6,
     "metadata": {},
     "output_type": "execute_result"
    }
   ],
   "source": [
    "df.shape"
   ]
  },
  {
   "cell_type": "code",
   "execution_count": 7,
   "metadata": {},
   "outputs": [
    {
     "data": {
      "text/plain": [
       "(8408, 14)"
      ]
     },
     "execution_count": 7,
     "metadata": {},
     "output_type": "execute_result"
    }
   ],
   "source": [
    "#drop duplicates of video id\n",
    "df=df.drop_duplicates(subset='video_id')\n",
    "df.shape"
   ]
  },
  {
   "cell_type": "code",
   "execution_count": 8,
   "metadata": {},
   "outputs": [
    {
     "data": {
      "text/html": [
       "<div>\n",
       "<style scoped>\n",
       "    .dataframe tbody tr th:only-of-type {\n",
       "        vertical-align: middle;\n",
       "    }\n",
       "\n",
       "    .dataframe tbody tr th {\n",
       "        vertical-align: top;\n",
       "    }\n",
       "\n",
       "    .dataframe thead th {\n",
       "        text-align: right;\n",
       "    }\n",
       "</style>\n",
       "<table border=\"1\" class=\"dataframe\">\n",
       "  <thead>\n",
       "    <tr style=\"text-align: right;\">\n",
       "      <th></th>\n",
       "      <th>topic_category</th>\n",
       "      <th>subscriber_count</th>\n",
       "      <th>channel_video_count</th>\n",
       "      <th>day_of_week_published</th>\n",
       "      <th>video_length_seconds</th>\n",
       "      <th>viral</th>\n",
       "    </tr>\n",
       "  </thead>\n",
       "  <tbody>\n",
       "    <tr>\n",
       "      <th>6638</th>\n",
       "      <td>Lifestyle</td>\n",
       "      <td>7230</td>\n",
       "      <td>257</td>\n",
       "      <td>Friday</td>\n",
       "      <td>3074.0</td>\n",
       "      <td>0</td>\n",
       "    </tr>\n",
       "    <tr>\n",
       "      <th>8022</th>\n",
       "      <td>Society</td>\n",
       "      <td>1180</td>\n",
       "      <td>6288</td>\n",
       "      <td>Wednesday</td>\n",
       "      <td>74.0</td>\n",
       "      <td>0</td>\n",
       "    </tr>\n",
       "    <tr>\n",
       "      <th>3546</th>\n",
       "      <td>Lifestyle</td>\n",
       "      <td>2370000</td>\n",
       "      <td>527</td>\n",
       "      <td>Sunday</td>\n",
       "      <td>781.0</td>\n",
       "      <td>0</td>\n",
       "    </tr>\n",
       "    <tr>\n",
       "      <th>2067</th>\n",
       "      <td>Food</td>\n",
       "      <td>6130000</td>\n",
       "      <td>1369</td>\n",
       "      <td>Thursday</td>\n",
       "      <td>901.0</td>\n",
       "      <td>0</td>\n",
       "    </tr>\n",
       "    <tr>\n",
       "      <th>4971</th>\n",
       "      <td>Film</td>\n",
       "      <td>17300000</td>\n",
       "      <td>189</td>\n",
       "      <td>Wednesday</td>\n",
       "      <td>1528.0</td>\n",
       "      <td>1</td>\n",
       "    </tr>\n",
       "  </tbody>\n",
       "</table>\n",
       "</div>"
      ],
      "text/plain": [
       "     topic_category  subscriber_count  channel_video_count  \\\n",
       "6638      Lifestyle              7230                  257   \n",
       "8022        Society              1180                 6288   \n",
       "3546      Lifestyle           2370000                  527   \n",
       "2067           Food           6130000                 1369   \n",
       "4971           Film          17300000                  189   \n",
       "\n",
       "     day_of_week_published  video_length_seconds  viral  \n",
       "6638                Friday                3074.0      0  \n",
       "8022             Wednesday                  74.0      0  \n",
       "3546                Sunday                 781.0      0  \n",
       "2067              Thursday                 901.0      0  \n",
       "4971             Wednesday                1528.0      1  "
      ]
     },
     "execution_count": 8,
     "metadata": {},
     "output_type": "execute_result"
    }
   ],
   "source": [
    "#remove columns not needed for ml\n",
    "df=df.drop(['channel_id','custom_url','video_id','channel_view_count','time_published','like_count','comment_count','view_count'],axis=1)\n",
    "df.sample(5)"
   ]
  },
  {
   "cell_type": "code",
   "execution_count": 9,
   "metadata": {},
   "outputs": [
    {
     "data": {
      "text/plain": [
       "topic_category            object\n",
       "subscriber_count           int64\n",
       "channel_video_count        int64\n",
       "day_of_week_published     object\n",
       "video_length_seconds     float64\n",
       "viral                      int64\n",
       "dtype: object"
      ]
     },
     "execution_count": 9,
     "metadata": {},
     "output_type": "execute_result"
    }
   ],
   "source": [
    "df.dtypes"
   ]
  },
  {
   "cell_type": "code",
   "execution_count": 10,
   "metadata": {},
   "outputs": [
    {
     "data": {
      "text/plain": [
       "49"
      ]
     },
     "execution_count": 10,
     "metadata": {},
     "output_type": "execute_result"
    }
   ],
   "source": [
    "#null\n",
    "df.video_length_seconds.isnull().sum()"
   ]
  },
  {
   "cell_type": "code",
   "execution_count": 11,
   "metadata": {},
   "outputs": [
    {
     "data": {
      "text/plain": [
       "topic_category           0\n",
       "subscriber_count         0\n",
       "channel_video_count      0\n",
       "day_of_week_published    0\n",
       "video_length_seconds     0\n",
       "viral                    0\n",
       "dtype: int64"
      ]
     },
     "execution_count": 11,
     "metadata": {},
     "output_type": "execute_result"
    }
   ],
   "source": [
    "df=df.dropna()\n",
    "df.isnull().sum()"
   ]
  },
  {
   "cell_type": "code",
   "execution_count": 12,
   "metadata": {},
   "outputs": [
    {
     "name": "stdout",
     "output_type": "stream",
     "text": [
      "shape of dataframe is:  (8359, 6)\n"
     ]
    },
    {
     "data": {
      "text/html": [
       "<div>\n",
       "<style scoped>\n",
       "    .dataframe tbody tr th:only-of-type {\n",
       "        vertical-align: middle;\n",
       "    }\n",
       "\n",
       "    .dataframe tbody tr th {\n",
       "        vertical-align: top;\n",
       "    }\n",
       "\n",
       "    .dataframe thead th {\n",
       "        text-align: right;\n",
       "    }\n",
       "</style>\n",
       "<table border=\"1\" class=\"dataframe\">\n",
       "  <thead>\n",
       "    <tr style=\"text-align: right;\">\n",
       "      <th></th>\n",
       "      <th>subscriber_count</th>\n",
       "      <th>channel_video_count</th>\n",
       "      <th>video_length_seconds</th>\n",
       "      <th>viral</th>\n",
       "    </tr>\n",
       "  </thead>\n",
       "  <tbody>\n",
       "    <tr>\n",
       "      <th>count</th>\n",
       "      <td>8.359000e+03</td>\n",
       "      <td>8359.000000</td>\n",
       "      <td>8359.000000</td>\n",
       "      <td>8359.000000</td>\n",
       "    </tr>\n",
       "    <tr>\n",
       "      <th>mean</th>\n",
       "      <td>1.449562e+07</td>\n",
       "      <td>6570.476612</td>\n",
       "      <td>939.747936</td>\n",
       "      <td>0.198469</td>\n",
       "    </tr>\n",
       "    <tr>\n",
       "      <th>std</th>\n",
       "      <td>2.775734e+07</td>\n",
       "      <td>27672.647634</td>\n",
       "      <td>1968.937453</td>\n",
       "      <td>0.398871</td>\n",
       "    </tr>\n",
       "    <tr>\n",
       "      <th>min</th>\n",
       "      <td>1.600000e+01</td>\n",
       "      <td>2.000000</td>\n",
       "      <td>0.000000</td>\n",
       "      <td>0.000000</td>\n",
       "    </tr>\n",
       "    <tr>\n",
       "      <th>25%</th>\n",
       "      <td>5.310000e+03</td>\n",
       "      <td>165.000000</td>\n",
       "      <td>163.000000</td>\n",
       "      <td>0.000000</td>\n",
       "    </tr>\n",
       "    <tr>\n",
       "      <th>50%</th>\n",
       "      <td>2.350000e+06</td>\n",
       "      <td>430.000000</td>\n",
       "      <td>452.000000</td>\n",
       "      <td>0.000000</td>\n",
       "    </tr>\n",
       "    <tr>\n",
       "      <th>75%</th>\n",
       "      <td>1.440000e+07</td>\n",
       "      <td>1425.000000</td>\n",
       "      <td>918.000000</td>\n",
       "      <td>0.000000</td>\n",
       "    </tr>\n",
       "    <tr>\n",
       "      <th>max</th>\n",
       "      <td>1.460000e+08</td>\n",
       "      <td>246686.000000</td>\n",
       "      <td>42901.000000</td>\n",
       "      <td>1.000000</td>\n",
       "    </tr>\n",
       "  </tbody>\n",
       "</table>\n",
       "</div>"
      ],
      "text/plain": [
       "       subscriber_count  channel_video_count  video_length_seconds  \\\n",
       "count      8.359000e+03          8359.000000           8359.000000   \n",
       "mean       1.449562e+07          6570.476612            939.747936   \n",
       "std        2.775734e+07         27672.647634           1968.937453   \n",
       "min        1.600000e+01             2.000000              0.000000   \n",
       "25%        5.310000e+03           165.000000            163.000000   \n",
       "50%        2.350000e+06           430.000000            452.000000   \n",
       "75%        1.440000e+07          1425.000000            918.000000   \n",
       "max        1.460000e+08        246686.000000          42901.000000   \n",
       "\n",
       "             viral  \n",
       "count  8359.000000  \n",
       "mean      0.198469  \n",
       "std       0.398871  \n",
       "min       0.000000  \n",
       "25%       0.000000  \n",
       "50%       0.000000  \n",
       "75%       0.000000  \n",
       "max       1.000000  "
      ]
     },
     "execution_count": 12,
     "metadata": {},
     "output_type": "execute_result"
    }
   ],
   "source": [
    "#shape of df\n",
    "print(\"shape of dataframe is: \", df.shape)\n",
    "\n",
    "#statistical details of data\n",
    "df.describe()"
   ]
  },
  {
   "cell_type": "markdown",
   "metadata": {},
   "source": [
    "PREPROCESS DATA"
   ]
  },
  {
   "cell_type": "code",
   "execution_count": 13,
   "metadata": {},
   "outputs": [
    {
     "data": {
      "text/html": [
       "<div>\n",
       "<style scoped>\n",
       "    .dataframe tbody tr th:only-of-type {\n",
       "        vertical-align: middle;\n",
       "    }\n",
       "\n",
       "    .dataframe tbody tr th {\n",
       "        vertical-align: top;\n",
       "    }\n",
       "\n",
       "    .dataframe thead th {\n",
       "        text-align: right;\n",
       "    }\n",
       "</style>\n",
       "<table border=\"1\" class=\"dataframe\">\n",
       "  <thead>\n",
       "    <tr style=\"text-align: right;\">\n",
       "      <th></th>\n",
       "      <th>topic_category</th>\n",
       "      <th>subscriber_count</th>\n",
       "      <th>channel_video_count</th>\n",
       "      <th>day_of_week_published</th>\n",
       "      <th>video_length_seconds</th>\n",
       "      <th>viral</th>\n",
       "    </tr>\n",
       "  </thead>\n",
       "  <tbody>\n",
       "    <tr>\n",
       "      <th>0</th>\n",
       "      <td>Music</td>\n",
       "      <td>146000000</td>\n",
       "      <td>811</td>\n",
       "      <td>Tuesday</td>\n",
       "      <td>179.0</td>\n",
       "      <td>1</td>\n",
       "    </tr>\n",
       "    <tr>\n",
       "      <th>1</th>\n",
       "      <td>Music</td>\n",
       "      <td>146000000</td>\n",
       "      <td>811</td>\n",
       "      <td>Saturday</td>\n",
       "      <td>1792.0</td>\n",
       "      <td>1</td>\n",
       "    </tr>\n",
       "    <tr>\n",
       "      <th>2</th>\n",
       "      <td>Music</td>\n",
       "      <td>146000000</td>\n",
       "      <td>811</td>\n",
       "      <td>Tuesday</td>\n",
       "      <td>169.0</td>\n",
       "      <td>1</td>\n",
       "    </tr>\n",
       "    <tr>\n",
       "      <th>3</th>\n",
       "      <td>Music</td>\n",
       "      <td>146000000</td>\n",
       "      <td>811</td>\n",
       "      <td>Saturday</td>\n",
       "      <td>3681.0</td>\n",
       "      <td>1</td>\n",
       "    </tr>\n",
       "    <tr>\n",
       "      <th>4</th>\n",
       "      <td>Music</td>\n",
       "      <td>146000000</td>\n",
       "      <td>811</td>\n",
       "      <td>Tuesday</td>\n",
       "      <td>159.0</td>\n",
       "      <td>1</td>\n",
       "    </tr>\n",
       "  </tbody>\n",
       "</table>\n",
       "</div>"
      ],
      "text/plain": [
       "  topic_category  subscriber_count  channel_video_count day_of_week_published  \\\n",
       "0          Music         146000000                  811               Tuesday   \n",
       "1          Music         146000000                  811              Saturday   \n",
       "2          Music         146000000                  811               Tuesday   \n",
       "3          Music         146000000                  811              Saturday   \n",
       "4          Music         146000000                  811               Tuesday   \n",
       "\n",
       "   video_length_seconds  viral  \n",
       "0                 179.0      1  \n",
       "1                1792.0      1  \n",
       "2                 169.0      1  \n",
       "3                3681.0      1  \n",
       "4                 159.0      1  "
      ]
     },
     "execution_count": 13,
     "metadata": {},
     "output_type": "execute_result"
    }
   ],
   "source": [
    "df.head()"
   ]
  },
  {
   "cell_type": "code",
   "execution_count": 14,
   "metadata": {},
   "outputs": [
    {
     "data": {
      "text/html": [
       "<div>\n",
       "<style scoped>\n",
       "    .dataframe tbody tr th:only-of-type {\n",
       "        vertical-align: middle;\n",
       "    }\n",
       "\n",
       "    .dataframe tbody tr th {\n",
       "        vertical-align: top;\n",
       "    }\n",
       "\n",
       "    .dataframe thead th {\n",
       "        text-align: right;\n",
       "    }\n",
       "</style>\n",
       "<table border=\"1\" class=\"dataframe\">\n",
       "  <thead>\n",
       "    <tr style=\"text-align: right;\">\n",
       "      <th></th>\n",
       "      <th>topic_category</th>\n",
       "      <th>subscriber_count</th>\n",
       "      <th>channel_video_count</th>\n",
       "      <th>day_of_week_published</th>\n",
       "      <th>video_length_seconds</th>\n",
       "      <th>viral</th>\n",
       "      <th>day</th>\n",
       "    </tr>\n",
       "  </thead>\n",
       "  <tbody>\n",
       "    <tr>\n",
       "      <th>4781</th>\n",
       "      <td>0</td>\n",
       "      <td>24900000</td>\n",
       "      <td>1406</td>\n",
       "      <td>Friday</td>\n",
       "      <td>32.0</td>\n",
       "      <td>0</td>\n",
       "      <td>0</td>\n",
       "    </tr>\n",
       "    <tr>\n",
       "      <th>3673</th>\n",
       "      <td>6</td>\n",
       "      <td>10000000</td>\n",
       "      <td>2776</td>\n",
       "      <td>Wednesday</td>\n",
       "      <td>518.0</td>\n",
       "      <td>0</td>\n",
       "      <td>6</td>\n",
       "    </tr>\n",
       "    <tr>\n",
       "      <th>6122</th>\n",
       "      <td>2</td>\n",
       "      <td>13000</td>\n",
       "      <td>409</td>\n",
       "      <td>Monday</td>\n",
       "      <td>1669.0</td>\n",
       "      <td>0</td>\n",
       "      <td>1</td>\n",
       "    </tr>\n",
       "    <tr>\n",
       "      <th>8639</th>\n",
       "      <td>14</td>\n",
       "      <td>725</td>\n",
       "      <td>108</td>\n",
       "      <td>Tuesday</td>\n",
       "      <td>110.0</td>\n",
       "      <td>0</td>\n",
       "      <td>5</td>\n",
       "    </tr>\n",
       "    <tr>\n",
       "      <th>946</th>\n",
       "      <td>7</td>\n",
       "      <td>128100000</td>\n",
       "      <td>408</td>\n",
       "      <td>Saturday</td>\n",
       "      <td>229.0</td>\n",
       "      <td>1</td>\n",
       "      <td>2</td>\n",
       "    </tr>\n",
       "  </tbody>\n",
       "</table>\n",
       "</div>"
      ],
      "text/plain": [
       "      topic_category  subscriber_count  channel_video_count  \\\n",
       "4781               0          24900000                 1406   \n",
       "3673               6          10000000                 2776   \n",
       "6122               2             13000                  409   \n",
       "8639              14               725                  108   \n",
       "946                7         128100000                  408   \n",
       "\n",
       "     day_of_week_published  video_length_seconds  viral  day  \n",
       "4781                Friday                  32.0      0    0  \n",
       "3673             Wednesday                 518.0      0    6  \n",
       "6122                Monday                1669.0      0    1  \n",
       "8639               Tuesday                 110.0      0    5  \n",
       "946               Saturday                 229.0      1    2  "
      ]
     },
     "execution_count": 14,
     "metadata": {},
     "output_type": "execute_result"
    }
   ],
   "source": [
    "#encode categorical data\n",
    "le = LabelEncoder()\n",
    "df['topic_category'] = le.fit_transform(df['topic_category'])\n",
    "df['day'] = le.fit_transform(df['day_of_week_published'])\n",
    "df.sample(5)"
   ]
  },
  {
   "cell_type": "code",
   "execution_count": 15,
   "metadata": {},
   "outputs": [],
   "source": [
    "# Day of Week dictionary\n",
    "weekday_num = {\n",
    "    \"Sunday\": 1,\n",
    "    \"Monday\": 2,\n",
    "    \"Tuesday\": 3,\n",
    "    \"Wednesday\": 4,\n",
    "    \"Thursday\": 5,\n",
    "    \"Friday\": 6,\n",
    "    \"Saturday\": 7\n",
    "}"
   ]
  },
  {
   "cell_type": "code",
   "execution_count": 16,
   "metadata": {},
   "outputs": [
    {
     "data": {
      "text/html": [
       "<div>\n",
       "<style scoped>\n",
       "    .dataframe tbody tr th:only-of-type {\n",
       "        vertical-align: middle;\n",
       "    }\n",
       "\n",
       "    .dataframe tbody tr th {\n",
       "        vertical-align: top;\n",
       "    }\n",
       "\n",
       "    .dataframe thead th {\n",
       "        text-align: right;\n",
       "    }\n",
       "</style>\n",
       "<table border=\"1\" class=\"dataframe\">\n",
       "  <thead>\n",
       "    <tr style=\"text-align: right;\">\n",
       "      <th></th>\n",
       "      <th>topic_category</th>\n",
       "      <th>subscriber_count</th>\n",
       "      <th>channel_video_count</th>\n",
       "      <th>video_length_seconds</th>\n",
       "      <th>viral</th>\n",
       "      <th>day_of_week</th>\n",
       "    </tr>\n",
       "  </thead>\n",
       "  <tbody>\n",
       "    <tr>\n",
       "      <th>0</th>\n",
       "      <td>7</td>\n",
       "      <td>146000000</td>\n",
       "      <td>811</td>\n",
       "      <td>179.0</td>\n",
       "      <td>1</td>\n",
       "      <td>3</td>\n",
       "    </tr>\n",
       "    <tr>\n",
       "      <th>1</th>\n",
       "      <td>7</td>\n",
       "      <td>146000000</td>\n",
       "      <td>811</td>\n",
       "      <td>1792.0</td>\n",
       "      <td>1</td>\n",
       "      <td>7</td>\n",
       "    </tr>\n",
       "    <tr>\n",
       "      <th>2</th>\n",
       "      <td>7</td>\n",
       "      <td>146000000</td>\n",
       "      <td>811</td>\n",
       "      <td>169.0</td>\n",
       "      <td>1</td>\n",
       "      <td>3</td>\n",
       "    </tr>\n",
       "    <tr>\n",
       "      <th>3</th>\n",
       "      <td>7</td>\n",
       "      <td>146000000</td>\n",
       "      <td>811</td>\n",
       "      <td>3681.0</td>\n",
       "      <td>1</td>\n",
       "      <td>7</td>\n",
       "    </tr>\n",
       "    <tr>\n",
       "      <th>4</th>\n",
       "      <td>7</td>\n",
       "      <td>146000000</td>\n",
       "      <td>811</td>\n",
       "      <td>159.0</td>\n",
       "      <td>1</td>\n",
       "      <td>3</td>\n",
       "    </tr>\n",
       "  </tbody>\n",
       "</table>\n",
       "</div>"
      ],
      "text/plain": [
       "   topic_category  subscriber_count  channel_video_count  \\\n",
       "0               7         146000000                  811   \n",
       "1               7         146000000                  811   \n",
       "2               7         146000000                  811   \n",
       "3               7         146000000                  811   \n",
       "4               7         146000000                  811   \n",
       "\n",
       "   video_length_seconds  viral  day_of_week  \n",
       "0                 179.0      1            3  \n",
       "1                1792.0      1            7  \n",
       "2                 169.0      1            3  \n",
       "3                3681.0      1            7  \n",
       "4                 159.0      1            3  "
      ]
     },
     "execution_count": 16,
     "metadata": {},
     "output_type": "execute_result"
    }
   ],
   "source": [
    "# weekdays names encoded using the dictionary values\n",
    "df[\"day_of_week\"] = df[\"day_of_week_published\"].apply(lambda x: weekday_num[x])\n",
    "df=df.drop(columns=['day','day_of_week_published'])\n",
    "df.head()"
   ]
  },
  {
   "cell_type": "code",
   "execution_count": 17,
   "metadata": {},
   "outputs": [
    {
     "data": {
      "image/png": "[encoded data removed]",
      "text/plain": [
       "<Figure size 432x288 with 2 Axes>"
      ]
     },
     "metadata": {
      "needs_background": "light"
     },
     "output_type": "display_data"
    }
   ],
   "source": [
    "#correlation between features\n",
    "corr_plot=sns.heatmap(df.corr(),annot=True, linewidths=3)\n",
    "plt.title(\"Correlation Plot\")\n",
    "plt.show()"
   ]
  },
  {
   "cell_type": "markdown",
   "metadata": {},
   "source": [
    "SCALE DATA"
   ]
  },
  {
   "cell_type": "code",
   "execution_count": 18,
   "metadata": {},
   "outputs": [],
   "source": [
    "#seperate features and target\n",
    "y=df['viral']\n",
    "X=df.drop(columns='viral')"
   ]
  },
  {
   "cell_type": "code",
   "execution_count": 19,
   "metadata": {},
   "outputs": [
    {
     "data": {
      "text/html": [
       "<div>\n",
       "<style scoped>\n",
       "    .dataframe tbody tr th:only-of-type {\n",
       "        vertical-align: middle;\n",
       "    }\n",
       "\n",
       "    .dataframe tbody tr th {\n",
       "        vertical-align: top;\n",
       "    }\n",
       "\n",
       "    .dataframe thead th {\n",
       "        text-align: right;\n",
       "    }\n",
       "</style>\n",
       "<table border=\"1\" class=\"dataframe\">\n",
       "  <thead>\n",
       "    <tr style=\"text-align: right;\">\n",
       "      <th></th>\n",
       "      <th>topic_category</th>\n",
       "      <th>subscriber_count</th>\n",
       "      <th>channel_video_count</th>\n",
       "      <th>video_length_seconds</th>\n",
       "      <th>day_of_week</th>\n",
       "    </tr>\n",
       "  </thead>\n",
       "  <tbody>\n",
       "    <tr>\n",
       "      <th>0</th>\n",
       "      <td>7</td>\n",
       "      <td>146000000</td>\n",
       "      <td>811</td>\n",
       "      <td>179.0</td>\n",
       "      <td>3</td>\n",
       "    </tr>\n",
       "    <tr>\n",
       "      <th>1</th>\n",
       "      <td>7</td>\n",
       "      <td>146000000</td>\n",
       "      <td>811</td>\n",
       "      <td>1792.0</td>\n",
       "      <td>7</td>\n",
       "    </tr>\n",
       "    <tr>\n",
       "      <th>2</th>\n",
       "      <td>7</td>\n",
       "      <td>146000000</td>\n",
       "      <td>811</td>\n",
       "      <td>169.0</td>\n",
       "      <td>3</td>\n",
       "    </tr>\n",
       "    <tr>\n",
       "      <th>3</th>\n",
       "      <td>7</td>\n",
       "      <td>146000000</td>\n",
       "      <td>811</td>\n",
       "      <td>3681.0</td>\n",
       "      <td>7</td>\n",
       "    </tr>\n",
       "    <tr>\n",
       "      <th>4</th>\n",
       "      <td>7</td>\n",
       "      <td>146000000</td>\n",
       "      <td>811</td>\n",
       "      <td>159.0</td>\n",
       "      <td>3</td>\n",
       "    </tr>\n",
       "  </tbody>\n",
       "</table>\n",
       "</div>"
      ],
      "text/plain": [
       "   topic_category  subscriber_count  channel_video_count  \\\n",
       "0               7         146000000                  811   \n",
       "1               7         146000000                  811   \n",
       "2               7         146000000                  811   \n",
       "3               7         146000000                  811   \n",
       "4               7         146000000                  811   \n",
       "\n",
       "   video_length_seconds  day_of_week  \n",
       "0                 179.0            3  \n",
       "1                1792.0            7  \n",
       "2                 169.0            3  \n",
       "3                3681.0            7  \n",
       "4                 159.0            3  "
      ]
     },
     "execution_count": 19,
     "metadata": {},
     "output_type": "execute_result"
    }
   ],
   "source": [
    "X.head()"
   ]
  },
  {
   "cell_type": "code",
   "execution_count": 20,
   "metadata": {},
   "outputs": [
    {
     "data": {
      "text/html": [
       "<div>\n",
       "<style scoped>\n",
       "    .dataframe tbody tr th:only-of-type {\n",
       "        vertical-align: middle;\n",
       "    }\n",
       "\n",
       "    .dataframe tbody tr th {\n",
       "        vertical-align: top;\n",
       "    }\n",
       "\n",
       "    .dataframe thead th {\n",
       "        text-align: right;\n",
       "    }\n",
       "</style>\n",
       "<table border=\"1\" class=\"dataframe\">\n",
       "  <thead>\n",
       "    <tr style=\"text-align: right;\">\n",
       "      <th></th>\n",
       "      <th>topic_category</th>\n",
       "      <th>subscriber_count</th>\n",
       "      <th>channel_video_count</th>\n",
       "      <th>video_length_seconds</th>\n",
       "      <th>day_of_week</th>\n",
       "    </tr>\n",
       "  </thead>\n",
       "  <tbody>\n",
       "    <tr>\n",
       "      <th>0</th>\n",
       "      <td>0.215727</td>\n",
       "      <td>4.737927</td>\n",
       "      <td>-0.208141</td>\n",
       "      <td>-0.386398</td>\n",
       "      <td>-0.600557</td>\n",
       "    </tr>\n",
       "    <tr>\n",
       "      <th>1</th>\n",
       "      <td>0.215727</td>\n",
       "      <td>4.737927</td>\n",
       "      <td>-0.208141</td>\n",
       "      <td>0.432875</td>\n",
       "      <td>1.591367</td>\n",
       "    </tr>\n",
       "    <tr>\n",
       "      <th>2</th>\n",
       "      <td>0.215727</td>\n",
       "      <td>4.737927</td>\n",
       "      <td>-0.208141</td>\n",
       "      <td>-0.391477</td>\n",
       "      <td>-0.600557</td>\n",
       "    </tr>\n",
       "    <tr>\n",
       "      <th>3</th>\n",
       "      <td>0.215727</td>\n",
       "      <td>4.737927</td>\n",
       "      <td>-0.208141</td>\n",
       "      <td>1.392333</td>\n",
       "      <td>1.591367</td>\n",
       "    </tr>\n",
       "    <tr>\n",
       "      <th>4</th>\n",
       "      <td>0.215727</td>\n",
       "      <td>4.737927</td>\n",
       "      <td>-0.208141</td>\n",
       "      <td>-0.396556</td>\n",
       "      <td>-0.600557</td>\n",
       "    </tr>\n",
       "  </tbody>\n",
       "</table>\n",
       "</div>"
      ],
      "text/plain": [
       "   topic_category  subscriber_count  channel_video_count  \\\n",
       "0        0.215727          4.737927            -0.208141   \n",
       "1        0.215727          4.737927            -0.208141   \n",
       "2        0.215727          4.737927            -0.208141   \n",
       "3        0.215727          4.737927            -0.208141   \n",
       "4        0.215727          4.737927            -0.208141   \n",
       "\n",
       "   video_length_seconds  day_of_week  \n",
       "0             -0.386398    -0.600557  \n",
       "1              0.432875     1.591367  \n",
       "2             -0.391477    -0.600557  \n",
       "3              1.392333     1.591367  \n",
       "4             -0.396556    -0.600557  "
      ]
     },
     "execution_count": 20,
     "metadata": {},
     "output_type": "execute_result"
    }
   ],
   "source": [
    "stds=StandardScaler()\n",
    "df_scaled=stds.fit_transform(X.to_numpy())\n",
    "df_scaled=pd.DataFrame(df_scaled,columns=['topic_category','subscriber_count','channel_video_count','video_length_seconds','day_of_week'])\n",
    "\n",
    "df_scaled.head()"
   ]
  },
  {
   "cell_type": "markdown",
   "metadata": {},
   "source": [
    "RESAMPLE DATA"
   ]
  },
  {
   "cell_type": "code",
   "execution_count": 21,
   "metadata": {},
   "outputs": [
    {
     "data": {
      "image/png": "[encoded data removed]",
      "text/plain": [
       "<Figure size 720x216 with 2 Axes>"
      ]
     },
     "metadata": {
      "needs_background": "light"
     },
     "output_type": "display_data"
    }
   ],
   "source": [
    "#chart target variables distribution- color #8C000F\n",
    "fig=plt.figure(figsize=(10,3))\n",
    "fig.add_subplot(1,2,1)\n",
    "colors=['firebrick','gray']\n",
    "explode=(0,.1)\n",
    "a=df[\"viral\"].value_counts(normalize=True).plot\n",
    "a.pie(explode=explode,colors=colors)\n",
    "fig.add_subplot(1,2,2)\n",
    "chart=sns.countplot(x=df[\"viral\"],palette=colors)\n",
    "\n",
    "plt.tight_layout()\n",
    "plt.show()"
   ]
  },
  {
   "cell_type": "code",
   "execution_count": 22,
   "metadata": {},
   "outputs": [
    {
     "name": "stdout",
     "output_type": "stream",
     "text": [
      "Viral:  19.84687163536308 %\n",
      "Not Viral:  80.15312836463691 %\n"
     ]
    }
   ],
   "source": [
    "#percentage viral/not viral\n",
    "print(\"Viral: \", df.viral.value_counts()[1]/len(df)*100,\"%\")\n",
    "print(\"Not Viral: \", df.viral.value_counts()[0]/len(df)*100,\"%\")"
   ]
  },
  {
   "cell_type": "code",
   "execution_count": 23,
   "metadata": {},
   "outputs": [],
   "source": [
    "#seperate features and target\n",
    "y=df['viral']\n",
    "X=df_scaled"
   ]
  },
  {
   "cell_type": "code",
   "execution_count": 24,
   "metadata": {},
   "outputs": [
    {
     "data": {
      "text/plain": [
       "(6269, 5)"
      ]
     },
     "execution_count": 24,
     "metadata": {},
     "output_type": "execute_result"
    }
   ],
   "source": [
    "#split data into training and testing \n",
    "X_train, X_test, y_train, y_test = train_test_split(X, \n",
    "                                                    y, \n",
    "                                                    random_state=1, \n",
    "                                                    stratify=y)\n",
    "X_train.shape"
   ]
  },
  {
   "cell_type": "code",
   "execution_count": 25,
   "metadata": {},
   "outputs": [
    {
     "data": {
      "text/plain": [
       "0    6700\n",
       "1    1659\n",
       "Name: viral, dtype: int64"
      ]
     },
     "execution_count": 25,
     "metadata": {},
     "output_type": "execute_result"
    }
   ],
   "source": [
    "y.value_counts()"
   ]
  },
  {
   "cell_type": "code",
   "execution_count": 26,
   "metadata": {},
   "outputs": [
    {
     "data": {
      "text/plain": [
       "Counter({0: 5822, 1: 5723})"
      ]
     },
     "execution_count": 26,
     "metadata": {},
     "output_type": "execute_result"
    }
   ],
   "source": [
    "#resample data\n",
    "from imblearn.combine import SMOTEENN\n",
    "from collections import Counter\n",
    "\n",
    "smote_enn = SMOTEENN(random_state=0)\n",
    "X_resampled, y_resampled = smote_enn.fit_resample(X, y)\n",
    "Counter(y_resampled)"
   ]
  },
  {
   "cell_type": "markdown",
   "metadata": {},
   "source": [
    "LOGISTIC REGRESSION"
   ]
  },
  {
   "cell_type": "code",
   "execution_count": 27,
   "metadata": {},
   "outputs": [
    {
     "data": {
      "text/plain": [
       "LogisticRegression(max_iter=150, random_state=1)"
      ]
     },
     "execution_count": 27,
     "metadata": {},
     "output_type": "execute_result"
    }
   ],
   "source": [
    "#create logistic regression model\n",
    "classifier = LogisticRegression(solver='lbfgs',\n",
    "                                max_iter=150,\n",
    "                                random_state=1)\n",
    "\n",
    "#fit train the model\n",
    "classifier.fit(X_resampled, y_resampled)"
   ]
  },
  {
   "cell_type": "code",
   "execution_count": 28,
   "metadata": {},
   "outputs": [
    {
     "name": "stdout",
     "output_type": "stream",
     "text": [
      "0.8755980861244019\n"
     ]
    }
   ],
   "source": [
    "#make predictions\n",
    "y_pred = classifier.predict(X_test)\n",
    "#accuracy score\n",
    "print(accuracy_score(y_test, y_pred))"
   ]
  },
  {
   "cell_type": "code",
   "execution_count": 29,
   "metadata": {},
   "outputs": [
    {
     "data": {
      "text/plain": [
       "array([[1533,  142],\n",
       "       [ 118,  297]])"
      ]
     },
     "execution_count": 29,
     "metadata": {},
     "output_type": "execute_result"
    }
   ],
   "source": [
    "# Display the confusion matrix\n",
    "from sklearn.metrics import confusion_matrix\n",
    "confusion_matrix(y_test,y_pred)"
   ]
  },
  {
   "cell_type": "code",
   "execution_count": 30,
   "metadata": {},
   "outputs": [
    {
     "name": "stdout",
     "output_type": "stream",
     "text": [
      "              precision    recall  f1-score   support\n",
      "\n",
      "           0       0.93      0.92      0.92      1675\n",
      "           1       0.68      0.72      0.70       415\n",
      "\n",
      "    accuracy                           0.88      2090\n",
      "   macro avg       0.80      0.82      0.81      2090\n",
      "weighted avg       0.88      0.88      0.88      2090\n",
      "\n"
     ]
    }
   ],
   "source": [
    "#classification report\n",
    "print(classification_report(y_test, y_pred))"
   ]
  },
  {
   "cell_type": "code",
   "execution_count": 37,
   "metadata": {},
   "outputs": [
    {
     "data": {
      "image/png": "[encoded data removed]",
      "text/plain": [
       "<Figure size 432x288 with 1 Axes>"
      ]
     },
     "metadata": {
      "needs_background": "light"
     },
     "output_type": "display_data"
    }
   ],
   "source": [
    "#get feature importance\n",
    "from matplotlib import pyplot\n",
    "\n",
    "importance=pd.DataFrame(data={\n",
    "    'Attribute':X_resampled.columns,\n",
    "    'Importance':classifier.coef_[0]\n",
    "})\n",
    "\n",
    "importance=importance.sort_values(by='Importance', ascending=False)\n",
    "\n",
    "#graph \n",
    "plt.bar(x=importance['Attribute'], height=importance['Importance'], color='red')\n",
    "plt.title('Feature importances obtained from coefficients', size=20)\n",
    "plt.xticks(rotation='vertical')\n",
    "plt.show()\n"
   ]
  },
  {
   "cell_type": "markdown",
   "metadata": {},
   "source": [
    "RANDOM FOREST CLASSIFIER"
   ]
  },
  {
   "cell_type": "code",
   "execution_count": 39,
   "metadata": {},
   "outputs": [],
   "source": [
    "from sklearn.metrics import balanced_accuracy_score\n",
    "from imblearn.metrics import classification_report_imbalanced"
   ]
  },
  {
   "cell_type": "code",
   "execution_count": 40,
   "metadata": {},
   "outputs": [
    {
     "data": {
      "text/plain": [
       "BalancedRandomForestClassifier(random_state=1)"
      ]
     },
     "execution_count": 40,
     "metadata": {},
     "output_type": "execute_result"
    }
   ],
   "source": [
    "# Create a random forest classifier\n",
    "from imblearn.ensemble import BalancedRandomForestClassifier\n",
    "\n",
    "model = BalancedRandomForestClassifier(n_estimators=100, random_state=1)\n",
    "\n",
    "# Fitting the model\n",
    "model.fit(X_resampled, y_resampled)"
   ]
  },
  {
   "cell_type": "code",
   "execution_count": 41,
   "metadata": {},
   "outputs": [
    {
     "data": {
      "text/plain": [
       "0.939144038841935"
      ]
     },
     "execution_count": 41,
     "metadata": {},
     "output_type": "execute_result"
    }
   ],
   "source": [
    "# Calculated the balanced accuracy score\n",
    "y_pred=model.predict(X_test)\n",
    "balanced_accuracy_score(y_test,y_pred)"
   ]
  },
  {
   "cell_type": "code",
   "execution_count": 42,
   "metadata": {},
   "outputs": [
    {
     "data": {
      "text/plain": [
       "array([[1568,  107],\n",
       "       [  24,  391]])"
      ]
     },
     "execution_count": 42,
     "metadata": {},
     "output_type": "execute_result"
    }
   ],
   "source": [
    "# Display the confusion matrix\n",
    "confusion_matrix(y_test, y_pred)"
   ]
  },
  {
   "cell_type": "code",
   "execution_count": 43,
   "metadata": {},
   "outputs": [
    {
     "name": "stdout",
     "output_type": "stream",
     "text": [
      "              precision    recall  f1-score   support\n",
      "\n",
      "           0       0.98      0.94      0.96      1675\n",
      "           1       0.79      0.94      0.86       415\n",
      "\n",
      "    accuracy                           0.94      2090\n",
      "   macro avg       0.89      0.94      0.91      2090\n",
      "weighted avg       0.95      0.94      0.94      2090\n",
      "\n"
     ]
    }
   ],
   "source": [
    "# Print the imbalanced classification report\n",
    "print(classification_report(y_test,y_pred))"
   ]
  },
  {
   "cell_type": "code",
   "execution_count": 44,
   "metadata": {},
   "outputs": [
    {
     "data": {
      "text/plain": [
       "[(0.5507690094707619, 'subscriber_count'),\n",
       " (0.24975458878624882, 'channel_video_count'),\n",
       " (0.09097064063649654, 'topic_category'),\n",
       " (0.08988660350163531, 'video_length_seconds'),\n",
       " (0.01861915760485736, 'day_of_week')]"
      ]
     },
     "execution_count": 44,
     "metadata": {},
     "output_type": "execute_result"
    }
   ],
   "source": [
    "# List the features sorted in descending order by feature importance\n",
    "sorted(zip(model.feature_importances_, X.columns), reverse=True)"
   ]
  },
  {
   "cell_type": "code",
   "execution_count": 45,
   "metadata": {},
   "outputs": [
    {
     "data": {
      "text/plain": [
       "subscriber_count        0.550769\n",
       "channel_video_count     0.249755\n",
       "topic_category          0.090971\n",
       "video_length_seconds    0.089887\n",
       "day_of_week             0.018619\n",
       "dtype: float64"
      ]
     },
     "execution_count": 45,
     "metadata": {},
     "output_type": "execute_result"
    }
   ],
   "source": [
    "feature_imp=pd.Series(model.feature_importances_, index=X.columns).sort_values(ascending=False)\n",
    "feature_imp"
   ]
  },
  {
   "cell_type": "code",
   "execution_count": 47,
   "metadata": {},
   "outputs": [
    {
     "name": "stderr",
     "output_type": "stream",
     "text": [
      "No artists with labels found to put in legend.  Note that artists whose label start with an underscore are ignored when legend() is called with no argument.\n"
     ]
    },
    {
     "data": {
      "image/png": "[encoded data removed]",
      "text/plain": [
       "<Figure size 432x288 with 1 Axes>"
      ]
     },
     "metadata": {},
     "output_type": "display_data"
    }
   ],
   "source": [
    "#visualize feature importance\n",
    "#colors=sns.color_palette(\"rocket\", as_cmap=True)\n",
    "sns.barplot(x=feature_imp, y=feature_imp.index,palette=\"RdBu\")\n",
    "plt.style.use(\"dark_background\")\n",
    "plt.xlabel('Feature Importance Score')\n",
    "plt.ylabel('Features')\n",
    "plt.title(\"Visualizing Important Features\")\n",
    "plt.legend()\n",
    "plt.show()"
   ]
  },
  {
   "cell_type": "markdown",
   "metadata": {},
   "source": [
    "Trying to increase accuracy score"
   ]
  },
  {
   "cell_type": "code",
   "execution_count": 48,
   "metadata": {},
   "outputs": [
    {
     "name": "stdout",
     "output_type": "stream",
     "text": [
      "ACCURACY SCORE:  0.9106131990649164\n",
      "              precision    recall  f1-score   support\n",
      "\n",
      "           0       0.97      0.92      0.95      1675\n",
      "           1       0.73      0.90      0.81       415\n",
      "\n",
      "    accuracy                           0.91      2090\n",
      "   macro avg       0.85      0.91      0.88      2090\n",
      "weighted avg       0.93      0.91      0.92      2090\n",
      "\n"
     ]
    }
   ],
   "source": [
    "model = BalancedRandomForestClassifier(max_leaf_nodes=24,n_estimators=120, random_state=1)\n",
    "\n",
    "# Fitting the model\n",
    "model.fit(X_resampled, y_resampled)\n",
    "\n",
    "# Calculated the balanced accuracy score\n",
    "y_pred=model.predict(X_test)\n",
    "print(\"ACCURACY SCORE: \",balanced_accuracy_score(y_test,y_pred))\n",
    "\n",
    "# Print the imbalanced classification report\n",
    "print(classification_report(y_test,y_pred))"
   ]
  },
  {
   "cell_type": "code",
   "execution_count": 49,
   "metadata": {},
   "outputs": [
    {
     "name": "stdout",
     "output_type": "stream",
     "text": [
      "ACCURACY SCORE:  0.9283761913324942\n",
      "              precision    recall  f1-score   support\n",
      "\n",
      "           0       0.98      0.92      0.95      1675\n",
      "           1       0.74      0.94      0.83       415\n",
      "\n",
      "    accuracy                           0.92      2090\n",
      "   macro avg       0.86      0.93      0.89      2090\n",
      "weighted avg       0.94      0.92      0.93      2090\n",
      "\n"
     ]
    }
   ],
   "source": [
    "model = BalancedRandomForestClassifier(max_leaf_nodes=60,n_estimators=120, random_state=1)\n",
    "\n",
    "# Fitting the model\n",
    "model.fit(X_resampled, y_resampled)\n",
    "\n",
    "# Calculated the balanced accuracy score\n",
    "y_pred=model.predict(X_test)\n",
    "print(\"ACCURACY SCORE: \",balanced_accuracy_score(y_test,y_pred))\n",
    "\n",
    "# Print the imbalanced classification report\n",
    "print(classification_report(y_test,y_pred))"
   ]
  },
  {
   "cell_type": "code",
   "execution_count": 50,
   "metadata": {},
   "outputs": [
    {
     "name": "stdout",
     "output_type": "stream",
     "text": [
      "ACCURACY SCORE:  0.9247833123538931\n",
      "              precision    recall  f1-score   support\n",
      "\n",
      "           0       0.98      0.91      0.95      1675\n",
      "           1       0.73      0.93      0.82       415\n",
      "\n",
      "    accuracy                           0.92      2090\n",
      "   macro avg       0.86      0.92      0.88      2090\n",
      "weighted avg       0.93      0.92      0.92      2090\n",
      "\n"
     ]
    }
   ],
   "source": [
    "model = BalancedRandomForestClassifier(max_leaf_nodes=50,n_estimators=50, random_state=1)\n",
    "\n",
    "# Fitting the model\n",
    "model.fit(X_resampled, y_resampled)\n",
    "\n",
    "# Calculated the balanced accuracy score\n",
    "y_pred=model.predict(X_test)\n",
    "print(\"ACCURACY SCORE: \",balanced_accuracy_score(y_test,y_pred))\n",
    "\n",
    "# Print the imbalanced classification report\n",
    "print(classification_report(y_test,y_pred))"
   ]
  },
  {
   "cell_type": "code",
   "execution_count": 51,
   "metadata": {},
   "outputs": [
    {
     "name": "stdout",
     "output_type": "stream",
     "text": [
      "ACCURACY SCORE:  0.9301672361086135\n",
      "              precision    recall  f1-score   support\n",
      "\n",
      "           0       0.98      0.92      0.95      1675\n",
      "           1       0.75      0.94      0.83       415\n",
      "\n",
      "    accuracy                           0.93      2090\n",
      "   macro avg       0.87      0.93      0.89      2090\n",
      "weighted avg       0.94      0.93      0.93      2090\n",
      "\n"
     ]
    }
   ],
   "source": [
    "model = BalancedRandomForestClassifier(max_leaf_nodes= 80,n_estimators=1200, random_state=1)\n",
    "\n",
    "# Fitting the model\n",
    "model.fit(X_resampled, y_resampled)\n",
    "\n",
    "# Calculated the balanced accuracy score\n",
    "y_pred=model.predict(X_test)\n",
    "print(\"ACCURACY SCORE: \",balanced_accuracy_score(y_test,y_pred))\n",
    "\n",
    "# Print the imbalanced classification report\n",
    "print(classification_report(y_test,y_pred))"
   ]
  },
  {
   "cell_type": "code",
   "execution_count": 52,
   "metadata": {},
   "outputs": [
    {
     "name": "stdout",
     "output_type": "stream",
     "text": [
      "ACCURACY SCORE:  0.8998453515554756\n",
      "              precision    recall  f1-score   support\n",
      "\n",
      "           0       0.97      0.90      0.94      1675\n",
      "           1       0.69      0.90      0.78       415\n",
      "\n",
      "    accuracy                           0.90      2090\n",
      "   macro avg       0.83      0.90      0.86      2090\n",
      "weighted avg       0.92      0.90      0.91      2090\n",
      "\n"
     ]
    }
   ],
   "source": [
    "model = BalancedRandomForestClassifier(max_leaf_nodes= 10,n_estimators=1200, random_state=1)\n",
    "\n",
    "# Fitting the model\n",
    "model.fit(X_resampled, y_resampled)\n",
    "\n",
    "# Calculated the balanced accuracy score\n",
    "y_pred=model.predict(X_test)\n",
    "print(\"ACCURACY SCORE: \",balanced_accuracy_score(y_test,y_pred))\n",
    "\n",
    "# Print the imbalanced classification report\n",
    "print(classification_report(y_test,y_pred))"
   ]
  },
  {
   "cell_type": "code",
   "execution_count": 53,
   "metadata": {},
   "outputs": [
    {
     "name": "stdout",
     "output_type": "stream",
     "text": [
      "ACCURACY SCORE:  0.9388455313792483\n",
      "              precision    recall  f1-score   support\n",
      "\n",
      "           0       0.98      0.94      0.96      1675\n",
      "           1       0.78      0.94      0.86       415\n",
      "\n",
      "    accuracy                           0.94      2090\n",
      "   macro avg       0.88      0.94      0.91      2090\n",
      "weighted avg       0.94      0.94      0.94      2090\n",
      "\n"
     ]
    }
   ],
   "source": [
    "model = BalancedRandomForestClassifier(max_leaf_nodes= 800,n_estimators=1200, random_state=1)\n",
    "\n",
    "# Fitting the model\n",
    "model.fit(X_resampled, y_resampled)\n",
    "\n",
    "# Calculated the balanced accuracy score\n",
    "y_pred=model.predict(X_test)\n",
    "print(\"ACCURACY SCORE: \",balanced_accuracy_score(y_test,y_pred))\n",
    "\n",
    "# Print the imbalanced classification report\n",
    "print(classification_report(y_test,y_pred))"
   ]
  },
  {
   "cell_type": "markdown",
   "metadata": {},
   "source": [
    "ADABOOST CLASSIFIER"
   ]
  },
  {
   "cell_type": "code",
   "execution_count": 54,
   "metadata": {},
   "outputs": [
    {
     "data": {
      "text/plain": [
       "EasyEnsembleClassifier(n_estimators=100, random_state=1)"
      ]
     },
     "execution_count": 54,
     "metadata": {},
     "output_type": "execute_result"
    }
   ],
   "source": [
    "# Train the EasyEnsembleClassifier\n",
    "from imblearn.ensemble import EasyEnsembleClassifier\n",
    "\n",
    "model_eec=EasyEnsembleClassifier(n_estimators=100, random_state=1)\n",
    "model_eec.fit(X_resampled, y_resampled)"
   ]
  },
  {
   "cell_type": "code",
   "execution_count": 55,
   "metadata": {},
   "outputs": [
    {
     "data": {
      "text/plain": [
       "0.9094299586405323"
      ]
     },
     "execution_count": 55,
     "metadata": {},
     "output_type": "execute_result"
    }
   ],
   "source": [
    "# Calculated the balanced accuracy score\n",
    "y_pred=model_eec.predict(X_test)\n",
    "\n",
    "balanced_accuracy_score(y_test, y_pred)"
   ]
  },
  {
   "cell_type": "code",
   "execution_count": 56,
   "metadata": {},
   "outputs": [
    {
     "data": {
      "text/plain": [
       "array([[1529,  146],\n",
       "       [  39,  376]])"
      ]
     },
     "execution_count": 56,
     "metadata": {},
     "output_type": "execute_result"
    }
   ],
   "source": [
    "# Display the confusion matrix\n",
    "confusion_matrix(y_test, y_pred)"
   ]
  },
  {
   "cell_type": "code",
   "execution_count": 57,
   "metadata": {},
   "outputs": [
    {
     "name": "stdout",
     "output_type": "stream",
     "text": [
      "                   pre       rec       spe        f1       geo       iba       sup\n",
      "\n",
      "          0       0.98      0.91      0.91      0.94      0.91      0.83      1675\n",
      "          1       0.72      0.91      0.91      0.80      0.91      0.83       415\n",
      "\n",
      "avg / total       0.92      0.91      0.91      0.92      0.91      0.83      2090\n",
      "\n"
     ]
    }
   ],
   "source": [
    "# Print the imbalanced classification report\n",
    "print(classification_report_imbalanced(y_test, y_pred))"
   ]
  }
 ],
 "metadata": {
  "kernelspec": {
   "display_name": "Python 3.7.13 ('mlenv')",
   "language": "python",
   "name": "python3"
  },
  "language_info": {
   "codemirror_mode": {
    "name": "ipython",
    "version": 3
   },
   "file_extension": ".py",
   "mimetype": "text/x-python",
   "name": "python",
   "nbconvert_exporter": "python",
   "pygments_lexer": "ipython3",
   "version": "3.7.13"
  },
  "orig_nbformat": 4,
  "vscode": {
   "interpreter": {
    "hash": "d4f1b2b26d282679a37c22ffd0d805ae9e6e49f4c74aa42e69980383f9b2a98b"
   }
  }
 },
 "nbformat": 4,
 "nbformat_minor": 2
}
